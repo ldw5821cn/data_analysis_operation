{
 "cells": [
  {
   "cell_type": "code",
   "execution_count": 8,
   "metadata": {},
   "outputs": [],
   "source": [
    "import re\n",
    "import numpy\n",
    "from sklearn import linear_model\n",
    "from matplotlib import pyplot as plt"
   ]
  },
  {
   "cell_type": "code",
   "execution_count": 9,
   "metadata": {},
   "outputs": [
    {
     "name": "stdout",
     "output_type": "stream",
     "text": [
      "['28192.0\\t68980.0\\n', '39275.0\\t78875.0\\n', '34512.0\\t81400.0\\n', '24430.0\\t80624.0\\n', '23811.0\\t65562.0\\n', '34856.0\\t94603.0\\n', '23069.0\\t49705.0\\n', '34727.0\\t86060.0\\n', '32902.0\\t93485.0\\n', '28591.0\\t66033.0\\n', '26938.0\\t65446.0\\n', '32227.0\\t84685.0\\n', '18433.0\\t43105.0\\n', '27842.0\\t62648.0\\n', '36596.0\\t92935.0\\n', '40951.0\\t108329.0\\n', '29682.0\\t78204.0\\n', '45987.0\\t108277.0\\n', '43236.0\\t120000.0\\n', '25495.0\\t71841.0\\n', '39292.0\\t104747.0\\n', '46899.0\\t109272.0\\n', '27541.0\\t87669.0\\n', '33771.0\\t85308.0\\n', '37487.0\\t103226.0\\n', '37623.0\\t111957.0\\n', '47354.0\\t116192.0\\n', '33942.0\\t83547.0\\n', '28289.0\\t88000.0\\n', '43888.0\\t108558.0\\n', '23748.0\\t56323.0\\n', '26374.0\\t71453.0\\n', '22478.0\\t55535.0\\n', '34311.0\\t97956.0\\n', '31262.0\\t60472.0\\n', '35013.0\\t96611.0\\n', '32369.0\\t94611.0\\n', '27831.0\\t75674.0\\n', '31605.0\\t65021.0\\n', '20784.0\\t63729.0\\n', '39920.0\\t88493.0\\n', '34493.0\\t86494.0\\n', '17023.0\\t51546.0\\n', '49761.0\\t106787.0\\n', '32646.0\\t87756.0\\n', '29473.0\\t58705.0\\n', '41379.0\\t111732.0\\n', '24091.0\\t65477.0\\n', '45806.0\\t107412.0\\n', '34580.0\\t71388.0\\n', '23649.0\\t74983.0\\n', '19397.0\\t44738.0\\n', '35037.0\\t70993.0\\n', '38646.0\\t81995.0\\n', '40625.0\\t95467.0\\n', '34509.0\\t88127.0\\n', '34384.0\\t72019.0\\n', '16857.0\\t30000.0\\n', '43361.0\\t107875.0\\n', '29622.0\\t78398.0\\n', '23952.0\\t65134.0\\n', '33683.0\\t78992.0\\n', '41147.0\\t92855.0\\n', '14746.0\\t41568.0\\n', '10000.0\\t30338.0\\n', '19112.0\\t54615.0\\n', '30941.0\\t65444.0\\n', '32460.0\\t65315.0\\n', '41314.0\\t94341.0\\n', '46664.0\\t118369.0\\n', '50000.0\\t117759.0\\n', '25019.0\\t70125.0\\n', '31726.0\\t64898.0\\n', '43567.0\\t96624.0\\n', '25597.0\\t69282.0\\n', '17654.0\\t44556.0\\n', '32244.0\\t90651.0\\n', '39055.0\\t86378.0\\n', '43518.0\\t89734.0\\n', '31640.0\\t87435.0\\n', '38344.0\\t95904.0\\n', '37035.0\\t88783.0\\n', '29919.0\\t74789.0\\n', '22294.0\\t61178.0\\n', '30318.0\\t82539.0\\n', '28667.0\\t62990.0\\n', '27962.0\\t73219.0\\n', '37222.0\\t95300.0\\n', '32184.0\\t92325.0\\n', '26948.0\\t80603.0\\n', '20933.0\\t63340.0\\n', '29410.0\\t80714.0\\n', '25913.0\\t60376.0\\n', '32471.0\\t78755.0\\n', '31554.0\\t71993.0\\n', '21511.0\\t59960.0\\n', '28166.0\\t85622.0\\n', '34130.0\\t82463.0\\n', '17789.0\\t64759.0\\n', '21382.0\\t54315.0\\n']\n"
     ]
    }
   ],
   "source": [
    "fn = open('data.txt','r')\n",
    "all_data = fn.readlines()\n",
    "fn.close\n",
    "print(all_data)"
   ]
  },
  {
   "cell_type": "code",
   "execution_count": 14,
   "metadata": {},
   "outputs": [
    {
     "name": "stdout",
     "output_type": "stream",
     "text": [
      "X [28192.0, 39275.0, 34512.0, 24430.0, 23811.0, 34856.0, 23069.0, 34727.0, 32902.0, 28591.0, 26938.0, 32227.0, 18433.0, 27842.0, 36596.0, 40951.0, 29682.0, 45987.0, 43236.0, 25495.0, 39292.0, 46899.0, 27541.0, 33771.0, 37487.0, 37623.0, 47354.0, 33942.0, 28289.0, 43888.0, 23748.0, 26374.0, 22478.0, 34311.0, 31262.0, 35013.0, 32369.0, 27831.0, 31605.0, 20784.0, 39920.0, 34493.0, 17023.0, 49761.0, 32646.0, 29473.0, 41379.0, 24091.0, 45806.0, 34580.0, 23649.0, 19397.0, 35037.0, 38646.0, 40625.0, 34509.0, 34384.0, 16857.0, 43361.0, 29622.0, 23952.0, 33683.0, 41147.0, 14746.0, 10000.0, 19112.0, 30941.0, 32460.0, 41314.0, 46664.0, 50000.0, 25019.0, 31726.0, 43567.0, 25597.0, 17654.0, 32244.0, 39055.0, 43518.0, 31640.0, 38344.0, 37035.0, 29919.0, 22294.0, 30318.0, 28667.0, 27962.0, 37222.0, 32184.0, 26948.0, 20933.0, 29410.0, 25913.0, 32471.0, 31554.0, 21511.0, 28166.0, 34130.0, 17789.0, 21382.0]\n",
      "Y [68980.0, 78875.0, 81400.0, 80624.0, 65562.0, 94603.0, 49705.0, 86060.0, 93485.0, 66033.0, 65446.0, 84685.0, 43105.0, 62648.0, 92935.0, 108329.0, 78204.0, 108277.0, 120000.0, 71841.0, 104747.0, 109272.0, 87669.0, 85308.0, 103226.0, 111957.0, 116192.0, 83547.0, 88000.0, 108558.0, 56323.0, 71453.0, 55535.0, 97956.0, 60472.0, 96611.0, 94611.0, 75674.0, 65021.0, 63729.0, 88493.0, 86494.0, 51546.0, 106787.0, 87756.0, 58705.0, 111732.0, 65477.0, 107412.0, 71388.0, 74983.0, 44738.0, 70993.0, 81995.0, 95467.0, 88127.0, 72019.0, 30000.0, 107875.0, 78398.0, 65134.0, 78992.0, 92855.0, 41568.0, 30338.0, 54615.0, 65444.0, 65315.0, 94341.0, 118369.0, 117759.0, 70125.0, 64898.0, 96624.0, 69282.0, 44556.0, 90651.0, 86378.0, 89734.0, 87435.0, 95904.0, 88783.0, 74789.0, 61178.0, 82539.0, 62990.0, 73219.0, 95300.0, 92325.0, 80603.0, 63340.0, 80714.0, 60376.0, 78755.0, 71993.0, 59960.0, 85622.0, 82463.0, 64759.0, 54315.0]\n",
      "===========================\n",
      "X [[ 28192.]\n",
      " [ 39275.]\n",
      " [ 34512.]\n",
      " [ 24430.]\n",
      " [ 23811.]\n",
      " [ 34856.]\n",
      " [ 23069.]\n",
      " [ 34727.]\n",
      " [ 32902.]\n",
      " [ 28591.]\n",
      " [ 26938.]\n",
      " [ 32227.]\n",
      " [ 18433.]\n",
      " [ 27842.]\n",
      " [ 36596.]\n",
      " [ 40951.]\n",
      " [ 29682.]\n",
      " [ 45987.]\n",
      " [ 43236.]\n",
      " [ 25495.]\n",
      " [ 39292.]\n",
      " [ 46899.]\n",
      " [ 27541.]\n",
      " [ 33771.]\n",
      " [ 37487.]\n",
      " [ 37623.]\n",
      " [ 47354.]\n",
      " [ 33942.]\n",
      " [ 28289.]\n",
      " [ 43888.]\n",
      " [ 23748.]\n",
      " [ 26374.]\n",
      " [ 22478.]\n",
      " [ 34311.]\n",
      " [ 31262.]\n",
      " [ 35013.]\n",
      " [ 32369.]\n",
      " [ 27831.]\n",
      " [ 31605.]\n",
      " [ 20784.]\n",
      " [ 39920.]\n",
      " [ 34493.]\n",
      " [ 17023.]\n",
      " [ 49761.]\n",
      " [ 32646.]\n",
      " [ 29473.]\n",
      " [ 41379.]\n",
      " [ 24091.]\n",
      " [ 45806.]\n",
      " [ 34580.]\n",
      " [ 23649.]\n",
      " [ 19397.]\n",
      " [ 35037.]\n",
      " [ 38646.]\n",
      " [ 40625.]\n",
      " [ 34509.]\n",
      " [ 34384.]\n",
      " [ 16857.]\n",
      " [ 43361.]\n",
      " [ 29622.]\n",
      " [ 23952.]\n",
      " [ 33683.]\n",
      " [ 41147.]\n",
      " [ 14746.]\n",
      " [ 10000.]\n",
      " [ 19112.]\n",
      " [ 30941.]\n",
      " [ 32460.]\n",
      " [ 41314.]\n",
      " [ 46664.]\n",
      " [ 50000.]\n",
      " [ 25019.]\n",
      " [ 31726.]\n",
      " [ 43567.]\n",
      " [ 25597.]\n",
      " [ 17654.]\n",
      " [ 32244.]\n",
      " [ 39055.]\n",
      " [ 43518.]\n",
      " [ 31640.]\n",
      " [ 38344.]\n",
      " [ 37035.]\n",
      " [ 29919.]\n",
      " [ 22294.]\n",
      " [ 30318.]\n",
      " [ 28667.]\n",
      " [ 27962.]\n",
      " [ 37222.]\n",
      " [ 32184.]\n",
      " [ 26948.]\n",
      " [ 20933.]\n",
      " [ 29410.]\n",
      " [ 25913.]\n",
      " [ 32471.]\n",
      " [ 31554.]\n",
      " [ 21511.]\n",
      " [ 28166.]\n",
      " [ 34130.]\n",
      " [ 17789.]\n",
      " [ 21382.]]\n",
      "Y [[  68980.]\n",
      " [  78875.]\n",
      " [  81400.]\n",
      " [  80624.]\n",
      " [  65562.]\n",
      " [  94603.]\n",
      " [  49705.]\n",
      " [  86060.]\n",
      " [  93485.]\n",
      " [  66033.]\n",
      " [  65446.]\n",
      " [  84685.]\n",
      " [  43105.]\n",
      " [  62648.]\n",
      " [  92935.]\n",
      " [ 108329.]\n",
      " [  78204.]\n",
      " [ 108277.]\n",
      " [ 120000.]\n",
      " [  71841.]\n",
      " [ 104747.]\n",
      " [ 109272.]\n",
      " [  87669.]\n",
      " [  85308.]\n",
      " [ 103226.]\n",
      " [ 111957.]\n",
      " [ 116192.]\n",
      " [  83547.]\n",
      " [  88000.]\n",
      " [ 108558.]\n",
      " [  56323.]\n",
      " [  71453.]\n",
      " [  55535.]\n",
      " [  97956.]\n",
      " [  60472.]\n",
      " [  96611.]\n",
      " [  94611.]\n",
      " [  75674.]\n",
      " [  65021.]\n",
      " [  63729.]\n",
      " [  88493.]\n",
      " [  86494.]\n",
      " [  51546.]\n",
      " [ 106787.]\n",
      " [  87756.]\n",
      " [  58705.]\n",
      " [ 111732.]\n",
      " [  65477.]\n",
      " [ 107412.]\n",
      " [  71388.]\n",
      " [  74983.]\n",
      " [  44738.]\n",
      " [  70993.]\n",
      " [  81995.]\n",
      " [  95467.]\n",
      " [  88127.]\n",
      " [  72019.]\n",
      " [  30000.]\n",
      " [ 107875.]\n",
      " [  78398.]\n",
      " [  65134.]\n",
      " [  78992.]\n",
      " [  92855.]\n",
      " [  41568.]\n",
      " [  30338.]\n",
      " [  54615.]\n",
      " [  65444.]\n",
      " [  65315.]\n",
      " [  94341.]\n",
      " [ 118369.]\n",
      " [ 117759.]\n",
      " [  70125.]\n",
      " [  64898.]\n",
      " [  96624.]\n",
      " [  69282.]\n",
      " [  44556.]\n",
      " [  90651.]\n",
      " [  86378.]\n",
      " [  89734.]\n",
      " [  87435.]\n",
      " [  95904.]\n",
      " [  88783.]\n",
      " [  74789.]\n",
      " [  61178.]\n",
      " [  82539.]\n",
      " [  62990.]\n",
      " [  73219.]\n",
      " [  95300.]\n",
      " [  92325.]\n",
      " [  80603.]\n",
      " [  63340.]\n",
      " [  80714.]\n",
      " [  60376.]\n",
      " [  78755.]\n",
      " [  71993.]\n",
      " [  59960.]\n",
      " [  85622.]\n",
      " [  82463.]\n",
      " [  64759.]\n",
      " [  54315.]]\n"
     ]
    }
   ],
   "source": [
    "x = []\n",
    "y = []\n",
    "for single_data in all_data:\n",
    "    tmp_data = re.split('\\t|\\n',single_data)\n",
    "    x.append(float(tmp_data[0]))\n",
    "    y.append(float(tmp_data[1]))\n",
    "    \n",
    "print(\"X\",x)\n",
    "print(\"Y\",y)\n",
    "print(\"===========================\")\n",
    "x = numpy.array(x).reshape([100,1])\n",
    "y = numpy.array(y).reshape([100,1])\n",
    "print(\"X\",x)\n",
    "print(\"Y\",y)"
   ]
  },
  {
   "cell_type": "code",
   "execution_count": 17,
   "metadata": {},
   "outputs": [
    {
     "data": {
      "image/png": "[encoded data removed]",
      "text/plain": [
       "<matplotlib.figure.Figure at 0x1a160c1668>"
      ]
     },
     "metadata": {},
     "output_type": "display_data"
    }
   ],
   "source": [
    "plt.scatter(x,y)\n",
    "plt.show()"
   ]
  },
  {
   "cell_type": "code",
   "execution_count": 19,
   "metadata": {},
   "outputs": [
    {
     "data": {
      "text/plain": [
       "LinearRegression(copy_X=True, fit_intercept=True, n_jobs=1, normalize=False)"
      ]
     },
     "execution_count": 19,
     "metadata": {},
     "output_type": "execute_result"
    }
   ],
   "source": [
    "model = linear_model.LinearRegression()\n",
    "model.fit(x, y)"
   ]
  },
  {
   "cell_type": "code",
   "execution_count": 22,
   "metadata": {},
   "outputs": [
    {
     "name": "stdout",
     "output_type": "stream",
     "text": [
      "0.787641468476\n"
     ]
    }
   ],
   "source": [
    "model_coef = model.coef_model_intercept = model.intercept_r2 = model.score(x,y)\n",
    "print(model_coef)"
   ]
  },
  {
   "cell_type": "code",
   "execution_count": 32,
   "metadata": {},
   "outputs": [
    {
     "name": "stdout",
     "output_type": "stream",
     "text": [
      "[[ 190402.57234225]]\n",
      "[ 190402.57234225]\n"
     ]
    },
    {
     "data": {
      "text/plain": [
       "190403.0"
      ]
     },
     "execution_count": 32,
     "metadata": {},
     "output_type": "execute_result"
    }
   ],
   "source": [
    "new_x = 84610\n",
    "pre_y = model.predict(new_x)\n",
    "print(pre_y)\n",
    "for new_y in pre_y:\n",
    "    print(new_y)\n",
    "    \n",
    "round(new_y[0])"
   ]
  }
 ],
 "metadata": {
  "kernelspec": {
   "display_name": "Python 3",
   "language": "python",
   "name": "python3"
  },
  "language_info": {
   "codemirror_mode": {
    "name": "ipython",
    "version": 3
   },
   "file_extension": ".py",
   "mimetype": "text/x-python",
   "name": "python",
   "nbconvert_exporter": "python",
   "pygments_lexer": "ipython3",
   "version": "3.6.3"
  }
 },
 "nbformat": 4,
 "nbformat_minor": 2
}
