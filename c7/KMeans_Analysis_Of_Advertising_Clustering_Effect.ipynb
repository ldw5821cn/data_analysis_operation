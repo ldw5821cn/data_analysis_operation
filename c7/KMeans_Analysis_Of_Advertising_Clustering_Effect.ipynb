{
 "cells": [
  {
   "cell_type": "code",
   "execution_count": 1,
   "metadata": {},
   "outputs": [
    {
     "name": "stderr",
     "output_type": "stream",
     "text": [
      "/Users/liudawei/anaconda3/lib/python3.6/importlib/_bootstrap.py:219: RuntimeWarning: numpy.dtype size changed, may indicate binary incompatibility. Expected 96, got 88\n",
      "  return f(*args, **kwds)\n",
      "/Users/liudawei/anaconda3/lib/python3.6/importlib/_bootstrap.py:219: RuntimeWarning: numpy.dtype size changed, may indicate binary incompatibility. Expected 96, got 88\n",
      "  return f(*args, **kwds)\n",
      "/Users/liudawei/anaconda3/lib/python3.6/importlib/_bootstrap.py:219: RuntimeWarning: numpy.dtype size changed, may indicate binary incompatibility. Expected 96, got 88\n",
      "  return f(*args, **kwds)\n",
      "/Users/liudawei/anaconda3/lib/python3.6/importlib/_bootstrap.py:219: RuntimeWarning: numpy.dtype size changed, may indicate binary incompatibility. Expected 96, got 88\n",
      "  return f(*args, **kwds)\n",
      "/Users/liudawei/anaconda3/lib/python3.6/importlib/_bootstrap.py:219: RuntimeWarning: numpy.dtype size changed, may indicate binary incompatibility. Expected 96, got 88\n",
      "  return f(*args, **kwds)\n",
      "/Users/liudawei/anaconda3/lib/python3.6/importlib/_bootstrap.py:219: RuntimeWarning: numpy.dtype size changed, may indicate binary incompatibility. Expected 96, got 88\n",
      "  return f(*args, **kwds)\n",
      "/Users/liudawei/anaconda3/lib/python3.6/importlib/_bootstrap.py:219: RuntimeWarning: numpy.dtype size changed, may indicate binary incompatibility. Expected 96, got 88\n",
      "  return f(*args, **kwds)\n"
     ]
    }
   ],
   "source": [
    "# 导入库\n",
    "import pandas as pd\n",
    "import numpy as np\n",
    "from sklearn.feature_extraction import DictVectorizer  # 字符串分类转整数分类库\n",
    "from sklearn.preprocessing import MinMaxScaler  # MinMaxScaler库\n",
    "from sklearn.cluster import KMeans  # KMeans模块\n",
    "from sklearn import metrics  # 导入sklearn效果评估模块\n",
    "import matplotlib.pyplot as plt  # 图形库"
   ]
  },
  {
   "cell_type": "code",
   "execution_count": 3,
   "metadata": {},
   "outputs": [
    {
     "name": "stdout",
     "output_type": "stream",
     "text": [
      "***********************Data overview:***********************\n",
      "   渠道代号    日均UV   平均注册率   平均搜索量    访问深度  平均停留时间   订单转化率  投放总时间 素材类型    广告类型  \\\n",
      "0  A203    3.69  0.0071  0.0214  2.3071  419.77  0.0258   20.0  jpg  banner   \n",
      "1  A387  178.70  0.0040  0.0324  2.0489  157.94  0.0030   19.0  jpg  banner   \n",
      "\n",
      "  合作方式    广告尺寸 广告卖点  \n",
      "0  roi  140*40   打折  \n",
      "1  cpc  140*40   满减  \n",
      "************************Data dtypes:************************\n",
      "     渠道代号     日均UV    平均注册率    平均搜索量     访问深度   平均停留时间    订单转化率    投放总时间  \\\n",
      "0  object  float64  float64  float64  float64  float64  float64  float64   \n",
      "\n",
      "     素材类型    广告类型    合作方式    广告尺寸    广告卖点  \n",
      "0  object  object  object  object  object  \n",
      "************************ NA counts:*************************\n",
      "   渠道代号  日均UV  平均注册率  平均搜索量  访问深度  平均停留时间  订单转化率  投放总时间  素材类型  广告类型  合作方式  \\\n",
      "0     0     0      0      0     0       2      0      0     0     0     0   \n",
      "\n",
      "   广告尺寸  广告卖点  \n",
      "0     0     0  \n",
      "*************************Data DESC:*************************\n",
      "        count    mean      std   min     25%     50%     75%       max\n",
      "日均UV    889.0  540.85  1634.41  0.06    6.18  114.18  466.87  25294.77\n",
      "平均注册率   889.0    0.00     0.00  0.00    0.00    0.00    0.00      0.04\n",
      "平均搜索量   889.0    0.03     0.11  0.00    0.00    0.00    0.01      1.04\n",
      "访问深度    889.0    2.17     3.80  1.00    1.39    1.79    2.22     98.98\n",
      "平均停留时间  887.0  262.67   224.36  1.64  126.02  236.55  357.98   4450.83\n",
      "订单转化率   889.0    0.00     0.01  0.00    0.00    0.00    0.00      0.22\n",
      "投放总时间   889.0   16.05     8.51  1.00    9.00   16.00   24.00     30.00\n",
      "*******************Correlation analysis:********************\n",
      "        日均UV  平均注册率  平均搜索量  访问深度  平均停留时间  订单转化率  投放总时间\n",
      "日均UV    1.00  -0.05  -0.07 -0.02    0.04  -0.05  -0.04\n",
      "平均注册率  -0.05   1.00   0.24  0.11    0.22   0.32  -0.01\n",
      "平均搜索量  -0.07   0.24   1.00  0.06    0.17   0.13  -0.03\n",
      "访问深度   -0.02   0.11   0.06  1.00    0.72   0.16   0.06\n",
      "平均停留时间  0.04   0.22   0.17  0.72    1.00   0.25   0.05\n",
      "订单转化率  -0.05   0.32   0.13  0.16    0.25   1.00  -0.00\n",
      "投放总时间  -0.04  -0.01  -0.03  0.06    0.05  -0.00   1.00\n"
     ]
    }
   ],
   "source": [
    "# 读取数据\n",
    "raw_data = pd.read_table('ad_performance.txt', delimiter='\\t')\n",
    "\n",
    "# 数据审查和校验\n",
    "print ('{:*^60}'.format('Data overview:'))\n",
    "print (raw_data.head(2))  # 打印输出前2条数据\n",
    "print ('{:*^60}'.format('Data dtypes:'))\n",
    "print (pd.DataFrame(raw_data.dtypes).T)  # 打印数据类型分布\n",
    "print ('{:*^60}'.format(' NA counts:'))\n",
    "print (pd.DataFrame(raw_data.isnull().sum()).T)  # 查看缺失值情况\n",
    "print ('{:*^60}'.format('Data DESC:'))\n",
    "print (raw_data.describe().round(2).T)  # 打印原始数据基本描述性信息\n",
    "print ('{:*^60}'.format('Correlation analysis:'))\n",
    "print (raw_data.corr().round(2).T)  # 打印原始数据相关性信息"
   ]
  },
  {
   "cell_type": "code",
   "execution_count": 4,
   "metadata": {},
   "outputs": [],
   "source": [
    "# 数据预处理\n",
    "# 缺失值替换为均值\n",
    "data_fillna = raw_data.fillna(raw_data['平均停留时间'].mean())  # 用均值替换缺失值\n",
    "\n",
    "# 字符串分类转整数分类\n",
    "# part1\n",
    "conver_cols = ['素材类型', '广告类型', '合作方式', '广告尺寸', '广告卖点']\n",
    "convert_matrix = data_fillna[conver_cols]  # 获得要转换的数组\n",
    "lines = data_fillna.shape[0]  # 获得总记录数\n",
    "dict_list = []  # 总空列表，用于存放字符串与对应索引组成的字典\n",
    "unique_list = []  # 总唯一值列表，用于存储每个列的唯一值列表\n",
    "# part2\n",
    "for col_name in conver_cols:  # 循环读取每个列名\n",
    "    cols_unqiue_value = data_fillna[col_name].unique().tolist()  # 获取列的唯一值列表\n",
    "    unique_list.append(cols_unqiue_value)  # 将唯一值列表追加到总列表\n",
    "# part3\n",
    "for line_index in range(lines):  # 读取每行索引\n",
    "    each_record = convert_matrix.iloc[line_index]  # 获得每行数据，是一个Series\n",
    "    for each_index, each_data in enumerate(each_record):  # 读取Series每行对应的索引值\n",
    "        list_value = unique_list[each_index]  # 读取该行索引对应到总唯一值列表列索引下的数据(其实是相当于原来的列做了转置成了行，目的是查找唯一值在列表中的位置)\n",
    "        each_record[each_index] = list_value.index(each_data)  # 获得每个值对应到总唯一值列表中的索引\n",
    "    each_dict = dict(zip(conver_cols, each_record))  # 将每个值和对应的索引组合字典\n",
    "    dict_list.append(each_dict)  # 将字典追加到总列表\n",
    "# part4\n",
    "model_dvtransform = DictVectorizer(sparse=False, dtype=np.int64)  # 建立转换模型对象\n",
    "data_dictvec = model_dvtransform.fit_transform(dict_list)  # 应用分类转换训练"
   ]
  },
  {
   "cell_type": "code",
   "execution_count": 5,
   "metadata": {},
   "outputs": [
    {
     "name": "stderr",
     "output_type": "stream",
     "text": [
      "/Users/liudawei/anaconda3/lib/python3.6/site-packages/ipykernel_launcher.py:2: DeprecationWarning: \n",
      ".ix is deprecated. Please use\n",
      ".loc for label based indexing or\n",
      ".iloc for positional indexing\n",
      "\n",
      "See the documentation here:\n",
      "http://pandas.pydata.org/pandas-docs/stable/indexing.html#ix-indexer-is-deprecated\n",
      "  \n"
     ]
    }
   ],
   "source": [
    "# 数据标准化\n",
    "sacle_matrix = data_fillna.ix[:, 1:8]  # 获得要转换的矩阵\n",
    "minmax_scaler = MinMaxScaler()  # 建立MinMaxScaler模型对象\n",
    "data_scaled = minmax_scaler.fit_transform(sacle_matrix)  # MinMaxScaler标准化处理"
   ]
  },
  {
   "cell_type": "code",
   "execution_count": 6,
   "metadata": {},
   "outputs": [
    {
     "name": "stdout",
     "output_type": "stream",
     "text": [
      "**************K value and silhouette summary:***************\n",
      "[[2.         0.46692821]\n",
      " [3.         0.54904646]\n",
      " [4.         0.56968547]\n",
      " [5.         0.48186604]\n",
      " [6.         0.45477667]\n",
      " [7.         0.48204261]\n",
      " [8.         0.50447223]\n",
      " [9.         0.52697493]]\n",
      "Best K is:4 with average silhouette of 0.5697\n"
     ]
    }
   ],
   "source": [
    "# 合并所有输入维度\n",
    "X = np.hstack((data_scaled, data_dictvec))\n",
    "\n",
    "# 通过平均轮廓系数检验得到最佳KMeans聚类模型\n",
    "score_list = list()  # 用来存储每个K下模型的平局轮廓系数\n",
    "silhouette_int = -1  # 初始化的平均轮廓系数阀值\n",
    "for n_clusters in range(2, 10):  # 遍历从2到10几个有限组\n",
    "    model_kmeans = KMeans(n_clusters=n_clusters, random_state=0)  # 建立聚类模型对象\n",
    "    cluster_labels_tmp = model_kmeans.fit_predict(X)  # 训练聚类模型\n",
    "    silhouette_tmp = metrics.silhouette_score(X, cluster_labels_tmp)  # 得到每个K下的平均轮廓系数\n",
    "    if silhouette_tmp > silhouette_int:  # 如果平均轮廓系数更高\n",
    "        best_k = n_clusters  # 将最好的K存储下来\n",
    "        silhouette_int = silhouette_tmp  # 将最好的平均轮廓得分存储下来\n",
    "        best_kmeans = model_kmeans  # 将最好的模型存储下来\n",
    "        cluster_labels_k = cluster_labels_tmp  # 将最好的聚类标签存储下来\n",
    "    score_list.append([n_clusters, silhouette_tmp])  # 将每次K及其得分追加到列表\n",
    "print ('{:*^60}'.format('K value and silhouette summary:'))\n",
    "print (np.array(score_list))  # 打印输出所有K下的详细得分\n",
    "print ('Best K is:{0} with average silhouette of {1}'.format(best_k, silhouette_int.round(4)))"
   ]
  },
  {
   "cell_type": "code",
   "execution_count": 10,
   "metadata": {},
   "outputs": [
    {
     "name": "stdout",
     "output_type": "stream",
     "text": [
      "************Detailed features for all clusters:*************\n",
      "clusters          0        1        2        3\n",
      "counts          411      297       27      154\n",
      "percentage     0.46     0.33     0.03     0.17\n",
      "日均UV        1369.81  1194.69  1263.03   2718.7\n",
      "平均注册率         0.003    0.003    0.003    0.005\n",
      "平均搜索量         0.082    0.144    0.151    0.051\n",
      "访问深度          0.918    5.728      9.8    0.948\n",
      "平均停留时间      165.094  285.992  374.689   104.14\n",
      "订单转化率         0.009    0.016    0.017    0.007\n",
      "投放总时间         8.462     8.57    7.996    8.569\n",
      "素材类型            swf      jpg      swf      jpg\n",
      "广告类型            不确定      不确定       通栏   banner\n",
      "合作方式            cpc      cpc      cpc      cpc\n",
      "广告尺寸         600*90   600*90  900*120  308*388\n",
      "广告卖点             打折       直降       打折       满减\n"
     ]
    },
    {
     "name": "stderr",
     "output_type": "stream",
     "text": [
      "/Users/liudawei/anaconda3/lib/python3.6/site-packages/ipykernel_launcher.py:14: DeprecationWarning: \n",
      ".ix is deprecated. Please use\n",
      ".loc for label based indexing or\n",
      ".iloc for positional indexing\n",
      "\n",
      "See the documentation here:\n",
      "http://pandas.pydata.org/pandas-docs/stable/indexing.html#ix-indexer-is-deprecated\n",
      "  \n",
      "/Users/liudawei/anaconda3/lib/python3.6/site-packages/ipykernel_launcher.py:16: DeprecationWarning: \n",
      ".ix is deprecated. Please use\n",
      ".loc for label based indexing or\n",
      ".iloc for positional indexing\n",
      "\n",
      "See the documentation here:\n",
      "http://pandas.pydata.org/pandas-docs/stable/indexing.html#ix-indexer-is-deprecated\n",
      "  app.launch_new_instance()\n",
      "/Users/liudawei/anaconda3/lib/python3.6/site-packages/ipykernel_launcher.py:20: DeprecationWarning: \n",
      ".ix is deprecated. Please use\n",
      ".loc for label based indexing or\n",
      ".iloc for positional indexing\n",
      "\n",
      "See the documentation here:\n",
      "http://pandas.pydata.org/pandas-docs/stable/indexing.html#ix-indexer-is-deprecated\n"
     ]
    }
   ],
   "source": [
    "# 针对聚类结果的特征分析\n",
    "# part1\n",
    "cluster_labels = pd.DataFrame(cluster_labels_k, columns=['clusters'])  # 获得训练集下的标签信息\n",
    "merge_data = pd.concat((data_fillna, cluster_labels), axis=1)  # 将原始处理过的数据跟聚类标签整合\n",
    "# part2\n",
    "clustering_count = pd.DataFrame(merge_data['渠道代号'].groupby(merge_data['clusters']).count()).T.rename(\n",
    "    {'渠道代号': 'counts'})  # 计算每个聚类类别的样本量\n",
    "clustering_ratio = (clustering_count / len(merge_data)).round(2).rename({'counts': 'percentage'})  # 计算每个聚类类别的样本量占比\n",
    "# part3\n",
    "cluster_features = []  # 空列表，用于存储最终合并后的所有特征信息\n",
    "for line in range(best_k):  # 读取每个类索引\n",
    "    label_data = merge_data[merge_data['clusters'] == line]  # 获得特定类的数据\n",
    "\n",
    "    part1_data = label_data.ix[:, 1:8]  # 获得数值型数据特征\n",
    "    part1_desc = part1_data.describe().round(3)  # 得到数值型特征的描述性统计信息\n",
    "    merge_data1 = part1_desc.ix[2, :]  # 得到数值型特征的均值\n",
    "\n",
    "    part2_data = label_data.ix[:, 8:-1]  # 获得字符串型数据特征\n",
    "    part2_desc = part2_data.describe(include='all')  # 获得字符串型数据特征的描述性统计信息\n",
    "    merge_data2 = part2_desc.ix[2, :]  # 获得字符串型数据特征的最频繁值\n",
    "\n",
    "    merge_line = pd.concat((merge_data1, merge_data2), axis=0)  # 将数值型和字符串型典型特征沿行合并\n",
    "    cluster_features.append(merge_line)  # 将每个类别下的数据特征追加到列表\n",
    "# part4\n",
    "cluster_pd = pd.DataFrame(cluster_features).T  # 将列表转化为矩阵\n",
    "print ('{:*^60}'.format('Detailed features for all clusters:'))\n",
    "all_cluster_set = pd.concat((clustering_count, clustering_ratio, cluster_pd), axis=0)  # 将每个聚类类别的所有信息合并\n",
    "print (all_cluster_set)"
   ]
  },
  {
   "cell_type": "code",
   "execution_count": 9,
   "metadata": {},
   "outputs": [
    {
     "name": "stderr",
     "output_type": "stream",
     "text": [
      "/Users/liudawei/anaconda3/lib/python3.6/site-packages/matplotlib/font_manager.py:1328: UserWarning: findfont: Font family ['SimHei'] not found. Falling back to DejaVu Sans\n",
      "  (prop.get_family(), self.defaultFamily[fontext]))\n"
     ]
    },
    {
     "data": {
      "image/png": "[encoded data removed]",
      "text/plain": [
       "<Figure size 432x288 with 1 Axes>"
      ]
     },
     "metadata": {},
     "output_type": "display_data"
    }
   ],
   "source": [
    "# 各类别显著数值特征对比\n",
    "# part1\n",
    "num_sets = cluster_pd.ix[:6, :].T.astype(np.float64)  # 获取要展示的数据\n",
    "num_sets_max_min = minmax_scaler.fit_transform(num_sets)  # 获得标准化后的数据\n",
    "# part2\n",
    "fig = plt.figure()  # 建立画布\n",
    "ax = fig.add_subplot(111, polar=True)  # 增加子网格，注意polar参数\n",
    "labels = np.array(merge_data1.index[:-1])  # 设置要展示的数据标签\n",
    "cor_list = ['r', 'g', 'b', 'y']  # 定义不同类别的颜色\n",
    "angles = np.linspace(0, 2 * np.pi, len(labels), endpoint=False)  # 计算各个区间的角度\n",
    "angles = np.concatenate((angles, [angles[0]]))  # 建立相同首尾字段以便于闭合\n",
    "# part3\n",
    "for i in range(len(num_sets)):  # 循环每个类别\n",
    "    data_tmp = num_sets_max_min[i, :]  # 获得对应类数据\n",
    "    data = np.concatenate((data_tmp, [data_tmp[0]]))  # 建立相同首尾字段以便于闭合\n",
    "    ax.plot(angles, data, 'o-', c=cor_list[i], label=i)  # 画线\n",
    "# part4\n",
    "ax.set_thetagrids(angles * 180 / np.pi, labels, fontproperties=\"SimHei\")  # 设置极坐标轴\n",
    "ax.set_title(\"各聚类类别显著特征对比\", fontproperties=\"SimHei\")  # 设置标题放置\n",
    "ax.set_rlim(-0.2, 1.2)  # 设置坐标轴尺度范围\n",
    "plt.legend(loc=0)  # 设置图例位置\n",
    "plt.show()  # 展示图像"
   ]
  },
  {
   "cell_type": "code",
   "execution_count": null,
   "metadata": {},
   "outputs": [],
   "source": []
  }
 ],
 "metadata": {
  "kernelspec": {
   "display_name": "Python 3",
   "language": "python",
   "name": "python3"
  },
  "language_info": {
   "codemirror_mode": {
    "name": "ipython",
    "version": 3
   },
   "file_extension": ".py",
   "mimetype": "text/x-python",
   "name": "python",
   "nbconvert_exporter": "python",
   "pygments_lexer": "ipython3",
   "version": "3.6.3"
  }
 },
 "nbformat": 4,
 "nbformat_minor": 2
}
