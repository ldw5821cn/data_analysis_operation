{
 "cells": [
  {
   "cell_type": "code",
   "execution_count": 9,
   "metadata": {},
   "outputs": [],
   "source": [
    "import numpy as np\n",
    "from sklearn.tree import DecisionTreeClassifier\n",
    "from sklearn.decomposition import PCA"
   ]
  },
  {
   "cell_type": "code",
   "execution_count": 3,
   "metadata": {},
   "outputs": [
    {
     "name": "stdout",
     "output_type": "stream",
     "text": [
      "[[ 1.88622997  1.31785876 -0.16480621 ...  1.00579225  0.45485041\n",
      "   0.        ]\n",
      " [ 0.45016257  0.67080853 -1.16571355 ... -0.33194209 -2.94399437\n",
      "   1.        ]\n",
      " [ 0.48158666  0.33524676  0.72210929 ... -1.68387822  1.44933243\n",
      "   1.        ]\n",
      " ...\n",
      " [ 0.36101381 -1.10383044  1.2656558  ...  2.61770545 -1.14168056\n",
      "   1.        ]\n",
      " [ 0.88695058  0.75897958 -1.16120866 ... -1.57791648 -1.52150761\n",
      "   0.        ]\n",
      " [ 0.15444084 -0.27528562  0.77045662 ... -0.54756984  0.95966265\n",
      "   0.        ]]\n"
     ]
    }
   ],
   "source": [
    "#读取文件数据\n",
    "data = np.loadtxt('data1.txt')\n",
    "print(data)"
   ]
  },
  {
   "cell_type": "code",
   "execution_count": 6,
   "metadata": {},
   "outputs": [
    {
     "name": "stdout",
     "output_type": "stream",
     "text": [
      "[ 1.88622997  1.31785876 -0.16480621  0.56536882 -1.11934542 -0.53218995\n",
      " -0.6843102   1.24149827  1.00579225  0.45485041]\n",
      "0.0\n"
     ]
    }
   ],
   "source": [
    "x = data[:,:-1]\n",
    "y = data[:,-1]\n",
    "print(x[0])\n",
    "print(y[0])"
   ]
  },
  {
   "cell_type": "code",
   "execution_count": 12,
   "metadata": {},
   "outputs": [
    {
     "name": "stdout",
     "output_type": "stream",
     "text": [
      "[0.03331054 0.01513967 0.02199713 0.119727   0.47930312 0.04776297\n",
      " 0.17111746 0.02585441 0.02012725 0.06566044]\n"
     ]
    }
   ],
   "source": [
    "model_tree = DecisionTreeClassifier(random_state=0)\n",
    "model_tree.fit(x, y)\n",
    "feature_importance = model_tree.feature_importances_\n",
    "print(feature_importance)"
   ]
  },
  {
   "cell_type": "code",
   "execution_count": 15,
   "metadata": {},
   "outputs": [
    {
     "name": "stdout",
     "output_type": "stream",
     "text": [
      "[[ 7.18818316e-03  1.41619205e-02  1.00543847e-02  3.65097575e-01\n",
      "   6.38944537e-01 -1.95750380e-02 -1.73413378e-01 -3.80829974e-02\n",
      "  -2.87413113e-03 -6.52829504e-01]\n",
      " [ 1.01307710e-02 -1.95270201e-04 -2.33689543e-02 -6.12915216e-01\n",
      "   5.08983971e-01 -2.23429533e-02  6.02958940e-01 -1.49061329e-02\n",
      "  -1.81362216e-02 -3.41623971e-03]]\n",
      "[4.22602937 2.21149972]\n",
      "[3.38339364e-01 1.77054475e-01 8.92753857e-02 8.73655166e-02\n",
      " 8.23542686e-02 8.03329836e-02 7.38094896e-02 7.14685179e-02\n",
      " 5.71399845e-33 2.14712842e-33]\n"
     ]
    }
   ],
   "source": [
    "model_pca = PCA()\n",
    "model_pca.fit(x)\n",
    "model_pca.transform(x)\n",
    "components = model_pca.components_\n",
    "components_var = model_pca.explained_variance_\n",
    "components_var_ratio = model_pca.explained_variance_ratio_\n",
    "print(components[:2])\n",
    "print(components_var[:2])\n",
    "print(components_var_ratio)"
   ]
  },
  {
   "cell_type": "code",
   "execution_count": null,
   "metadata": {},
   "outputs": [],
   "source": []
  }
 ],
 "metadata": {
  "kernelspec": {
   "display_name": "Python 3",
   "language": "python",
   "name": "python3"
  },
  "language_info": {
   "codemirror_mode": {
    "name": "ipython",
    "version": 3
   },
   "file_extension": ".py",
   "mimetype": "text/x-python",
   "name": "python",
   "nbconvert_exporter": "python",
   "pygments_lexer": "ipython3",
   "version": "3.6.3"
  }
 },
 "nbformat": 4,
 "nbformat_minor": 2
}
