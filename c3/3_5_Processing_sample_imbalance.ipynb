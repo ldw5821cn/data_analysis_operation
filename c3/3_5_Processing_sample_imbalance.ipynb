{
 "cells": [
  {
   "cell_type": "code",
   "execution_count": 12,
   "metadata": {},
   "outputs": [],
   "source": [
    "#python处理样本不均衡\n",
    "import pandas as pd\n",
    "from imblearn.over_sampling import SMOTE #过采样处理库\n",
    "from imblearn.under_sampling import RandomUnderSampler\n",
    "from sklearn.svm import SVC\n",
    "from imblearn.ensemble import EasyEnsemble"
   ]
  },
  {
   "cell_type": "code",
   "execution_count": 2,
   "metadata": {},
   "outputs": [
    {
     "name": "stdout",
     "output_type": "stream",
     "text": [
      "       col1  col2  col3  col4  col5\n",
      "lable                              \n",
      "0.0     942   942   942   942   942\n",
      "1.0      58    58    58    58    58\n"
     ]
    }
   ],
   "source": [
    "#导入数据文件\n",
    "df = pd.read_table('data2.txt',sep=' ', names=['col1','col2','col3','col4','col5','lable'])\n",
    "x = df.iloc[:,:-1]\n",
    "y = df.iloc[:,-1]\n",
    "groupby_data_original = df.groupby('lable').count()\n",
    "print(groupby_data_original)"
   ]
  },
  {
   "cell_type": "code",
   "execution_count": 3,
   "metadata": {},
   "outputs": [
    {
     "name": "stdout",
     "output_type": "stream",
     "text": [
      "       col1  col2  col3  col4  col5\n",
      "lable                              \n",
      "0.0     942   942   942   942   942\n",
      "1.0     942   942   942   942   942\n"
     ]
    }
   ],
   "source": [
    "model_smote = SMOTE()\n",
    "x_smote_resampled, y_smote_resampled = model_smote.fit_sample(x,y)\n",
    "x_smote_resampled = pd.DataFrame(x_smote_resampled, columns=['col1','col2','col3','col4','col5'])\n",
    "y_smote_resampled = pd.DataFrame(y_smote_resampled, columns=['lable'])\n",
    "smote_resampled = pd.concat([x_smote_resampled, y_smote_resampled], axis=1)\n",
    "groupby_data_smote = smote_resampled.groupby('lable').count()\n",
    "print(groupby_data_smote)"
   ]
  },
  {
   "cell_type": "code",
   "execution_count": 4,
   "metadata": {},
   "outputs": [],
   "source": [
    "#通过对比第二部分代码段的原始数据集返回结果发现，\n",
    "#该结果中的正样本（label为1）的数量增加，\n",
    "#并与负样本数量相同，均为942条，数据分类样本得到平衡。"
   ]
  },
  {
   "cell_type": "code",
   "execution_count": 5,
   "metadata": {},
   "outputs": [],
   "source": [
    "#欠采样处理"
   ]
  },
  {
   "cell_type": "code",
   "execution_count": 8,
   "metadata": {},
   "outputs": [
    {
     "name": "stdout",
     "output_type": "stream",
     "text": [
      "       col1  col2  col3  col4  col5\n",
      "lable                              \n",
      "0.0      58    58    58    58    58\n",
      "1.0      58    58    58    58    58\n"
     ]
    }
   ],
   "source": [
    "model_RandomUnderSampler = RandomUnderSampler()\n",
    "x_RandomUnderSampler_resampled, y_RandomUnderSampler_resampled = model_RandomUnderSampler.fit_sample(x,y)\n",
    "x_RandomUnderSampler_resampled = pd.DataFrame(x_RandomUnderSampler_resampled,columns=['col1','col2','col3','col4','col5'])\n",
    "y_RandomUnderSampler_resampled = pd.DataFrame(y_RandomUnderSampler_resampled,columns=['lable'])\n",
    "RandomUnderSampler_resampled = pd.concat([x_RandomUnderSampler_resampled,y_RandomUnderSampler_resampled],axis=1)\n",
    "groupby_data_RandomSampler = RandomUnderSampler_resampled.groupby('lable').count()\n",
    "print(groupby_data_RandomSampler)                                           "
   ]
  },
  {
   "cell_type": "code",
   "execution_count": null,
   "metadata": {},
   "outputs": [],
   "source": [
    "#通过对比第二部分代码段的原始数据集返回的结果发现，\n",
    "#该结果中的负样本（label为0）的数量减少，\n",
    "#并跟正样本相同，均为58条，样本得到平衡。"
   ]
  },
  {
   "cell_type": "code",
   "execution_count": 9,
   "metadata": {},
   "outputs": [
    {
     "name": "stdout",
     "output_type": "stream",
     "text": [
      "(10, 116, 5)\n",
      "(10, 116)\n"
     ]
    }
   ],
   "source": [
    "#使用SVM的权重调节处理不均衡的样本\n",
    "model_svm = SVC(class_weight='balanced')\n",
    "model_svm.fit(x,y)\n",
    "model_EasyEnsemble = EasyEnsemble()\n",
    "x_EasyEnsemble_resampled, y_EasyEnsemble_resampled = model_EasyEnsemble.fit_sample(x,y)\n",
    "print(x_EasyEnsemble_resampled.shape)\n",
    "print(y_EasyEnsemble_resampled.shape)"
   ]
  },
  {
   "cell_type": "code",
   "execution_count": 13,
   "metadata": {},
   "outputs": [
    {
     "name": "stdout",
     "output_type": "stream",
     "text": [
      "       col1  col2  col3  col4  col5\n",
      "lable                              \n",
      "0.0      58    58    58    58    58\n",
      "1.0      58    58    58    58    58\n"
     ]
    }
   ],
   "source": [
    "index_num = 1\n",
    "x_EasyEnsemble_resampled_t = pd.DataFrame(x_EasyEnsemble_resampled[index_num],columns=['col1','col2','col3','col4','col5'])\n",
    "y_EasyEnsemble_resampled_t = pd.DataFrame(y_EasyEnsemble_resampled[index_num],columns=['lable'])\n",
    "EasyEnsemble_resampled = pd.concat([x_EasyEnsemble_resampled_t,y_EasyEnsemble_resampled_t],axis = 1)\n",
    "#print(EasyEnsemble_resampled)\n",
    "groupby_data_EasyEnsemble = EasyEnsemble_resampled.groupby('lable').count()\n",
    "print(groupby_data_EasyEnsemble)"
   ]
  },
  {
   "cell_type": "code",
   "execution_count": null,
   "metadata": {},
   "outputs": [],
   "source": [
    "#通过对比第二部分代码段的原始数据集返回的结果，该结果中的负样本（label为0）的数量减少，\n",
    "#并跟正样本相同，均为58条，样本集得到平衡。随后的应用中，可以通过循环读取每一份数据训练模型并得到结果，\n",
    "#然后将10（x处理后返回的结果，通过形状返回的元组中的第一个数值，\n",
    "#x_EasyEnsemble_resampled.shape[0]）份数据的结果通过一定方法进行汇总。\n",
    " "
   ]
  }
 ],
 "metadata": {
  "kernelspec": {
   "display_name": "Python 3",
   "language": "python",
   "name": "python3"
  },
  "language_info": {
   "codemirror_mode": {
    "name": "ipython",
    "version": 3
   },
   "file_extension": ".py",
   "mimetype": "text/x-python",
   "name": "python",
   "nbconvert_exporter": "python",
   "pygments_lexer": "ipython3",
   "version": "3.6.3"
  }
 },
 "nbformat": 4,
 "nbformat_minor": 2
}
