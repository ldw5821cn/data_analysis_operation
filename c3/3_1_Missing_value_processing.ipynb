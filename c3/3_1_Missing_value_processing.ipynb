{
 "cells": [
  {
   "cell_type": "code",
   "execution_count": 14,
   "metadata": {},
   "outputs": [],
   "source": [
    "import pandas as pd\n",
    "import numpy as np\n",
    "from sklearn.preprocessing import Imputer"
   ]
  },
  {
   "cell_type": "code",
   "execution_count": 2,
   "metadata": {},
   "outputs": [],
   "source": [
    "#缺失值处理"
   ]
  },
  {
   "cell_type": "code",
   "execution_count": 3,
   "metadata": {},
   "outputs": [
    {
     "name": "stdout",
     "output_type": "stream",
     "text": [
      "       col1      col2      col3      col4\n",
      "0  0.920660 -0.339486 -2.105358 -1.108579\n",
      "1 -1.081427 -0.738493  0.642121 -0.418305\n",
      "2  1.077503 -0.192174 -0.596865 -0.733768\n",
      "3  1.036110  0.077610 -0.429882  0.884916\n",
      "4 -0.801923 -0.428444  0.595591  0.324868\n",
      "5  2.397195  1.957078  0.615738 -0.146799\n"
     ]
    }
   ],
   "source": [
    "df = pd.DataFrame(np.random.randn(6,4), columns=['col1','col2','col3','col4'])\n",
    "print(df)"
   ]
  },
  {
   "cell_type": "code",
   "execution_count": 4,
   "metadata": {},
   "outputs": [
    {
     "name": "stdout",
     "output_type": "stream",
     "text": [
      "       col1      col2      col3      col4\n",
      "0  0.920660 -0.339486 -2.105358 -1.108579\n",
      "1 -1.081427       NaN  0.642121 -0.418305\n",
      "2  1.077503 -0.192174 -0.596865 -0.733768\n",
      "3  1.036110  0.077610 -0.429882  0.884916\n",
      "4 -0.801923 -0.428444  0.595591       NaN\n",
      "5  2.397195       NaN  0.615738 -0.146799\n"
     ]
    }
   ],
   "source": [
    "#生成缺失的值\n",
    "df.iloc[1:2, 1] = np.nan\n",
    "df.iloc[4, 3] = np.nan\n",
    "df.iloc[5, 1] = np.nan\n",
    "print(df)"
   ]
  },
  {
   "cell_type": "code",
   "execution_count": 5,
   "metadata": {},
   "outputs": [
    {
     "name": "stdout",
     "output_type": "stream",
     "text": [
      "    col1   col2   col3   col4\n",
      "0  False  False  False  False\n",
      "1  False   True  False  False\n",
      "2  False  False  False  False\n",
      "3  False  False  False  False\n",
      "4  False  False  False   True\n",
      "5  False   True  False  False\n"
     ]
    }
   ],
   "source": [
    "nan_all = df.isnull()\n",
    "print(nan_all)"
   ]
  },
  {
   "cell_type": "code",
   "execution_count": 6,
   "metadata": {
    "scrolled": true
   },
   "outputs": [
    {
     "name": "stdout",
     "output_type": "stream",
     "text": [
      "col1    False\n",
      "col2     True\n",
      "col3    False\n",
      "col4     True\n",
      "dtype: bool\n",
      "=======================\n",
      "col1    False\n",
      "col2    False\n",
      "col3    False\n",
      "col4    False\n",
      "dtype: bool\n"
     ]
    }
   ],
   "source": [
    "nan_col1 = df.isnull().any() #获得含有NA的列\n",
    "nan_col2 = df.isnull().all() #获得全部为NA的列\n",
    "print(nan_col1)\n",
    "print('=======================')\n",
    "print(nan_col2)"
   ]
  },
  {
   "cell_type": "code",
   "execution_count": 7,
   "metadata": {},
   "outputs": [
    {
     "name": "stdout",
     "output_type": "stream",
     "text": [
      "       col1      col2      col3      col4\n",
      "0  0.920660 -0.339486 -2.105358 -1.108579\n",
      "2  1.077503 -0.192174 -0.596865 -0.733768\n",
      "3  1.036110  0.077610 -0.429882  0.884916\n"
     ]
    }
   ],
   "source": [
    "#丢弃缺失的值\n",
    "df2 = df.dropna()\n",
    "print(df2)"
   ]
  },
  {
   "cell_type": "code",
   "execution_count": 8,
   "metadata": {},
   "outputs": [
    {
     "name": "stdout",
     "output_type": "stream",
     "text": [
      "[[ 0.92066048 -0.33948615 -2.10535763 -1.10857872]\n",
      " [-1.08142684 -0.22062365  0.64212069 -0.41830474]\n",
      " [ 1.07750316 -0.19217392 -0.59686545 -0.73376822]\n",
      " [ 1.03611002  0.07760978 -0.42988158  0.88491647]\n",
      " [-0.80192276 -0.42844431  0.59559068 -0.3045069 ]\n",
      " [ 2.39719516 -0.22062365  0.61573834 -0.14679927]]\n"
     ]
    }
   ],
   "source": [
    "#建立替换规则：将值为NaN的缺失值用均值代替\n",
    "nan_model = Imputer(missing_values='NaN', strategy='mean', axis=0)\n",
    "nan_result = nan_model.fit_transform(df)\n",
    "print(nan_result)"
   ]
  },
  {
   "cell_type": "code",
   "execution_count": 9,
   "metadata": {},
   "outputs": [
    {
     "name": "stdout",
     "output_type": "stream",
     "text": [
      "       col1      col2      col3      col4\n",
      "0  0.920660 -0.339486 -2.105358 -1.108579\n",
      "1 -1.081427 -0.192174  0.642121 -0.418305\n",
      "2  1.077503 -0.192174 -0.596865 -0.733768\n",
      "3  1.036110  0.077610 -0.429882  0.884916\n",
      "4 -0.801923 -0.428444  0.595591 -0.146799\n",
      "5  2.397195       NaN  0.615738 -0.146799\n"
     ]
    }
   ],
   "source": [
    "# 用后面的值替换为特定值\n",
    "nan_result_pd1 = df.fillna(method='backfill')\n",
    "print(nan_result_pd1)"
   ]
  },
  {
   "cell_type": "code",
   "execution_count": 10,
   "metadata": {},
   "outputs": [
    {
     "name": "stdout",
     "output_type": "stream",
     "text": [
      "       col1      col2      col3      col4\n",
      "0  0.920660 -0.339486 -2.105358 -1.108579\n",
      "1 -1.081427 -0.192174  0.642121 -0.418305\n",
      "2  1.077503 -0.192174 -0.596865 -0.733768\n",
      "3  1.036110  0.077610 -0.429882  0.884916\n",
      "4 -0.801923 -0.428444  0.595591 -0.146799\n",
      "5  2.397195       NaN  0.615738 -0.146799\n"
     ]
    }
   ],
   "source": [
    "#用后面的值替换缺失值，限制每列只能替换一个缺失值\n",
    "nan_result_pd2 = df.fillna(method='bfill',limit=1)\n",
    "print(nan_result_pd2)"
   ]
  },
  {
   "cell_type": "code",
   "execution_count": 11,
   "metadata": {},
   "outputs": [
    {
     "name": "stdout",
     "output_type": "stream",
     "text": [
      "       col1      col2      col3      col4\n",
      "0  0.920660 -0.339486 -2.105358 -1.108579\n",
      "1 -1.081427 -0.339486  0.642121 -0.418305\n",
      "2  1.077503 -0.192174 -0.596865 -0.733768\n",
      "3  1.036110  0.077610 -0.429882  0.884916\n",
      "4 -0.801923 -0.428444  0.595591  0.884916\n",
      "5  2.397195 -0.428444  0.615738 -0.146799\n"
     ]
    }
   ],
   "source": [
    "#用前面的值替换缺失的值\n",
    "nan_result_pd3 = df.fillna(method='pad')\n",
    "print(nan_result_pd3)"
   ]
  },
  {
   "cell_type": "code",
   "execution_count": 12,
   "metadata": {},
   "outputs": [
    {
     "name": "stdout",
     "output_type": "stream",
     "text": [
      "       col1      col2      col3      col4\n",
      "0  0.920660 -0.339486 -2.105358 -1.108579\n",
      "1 -1.081427  0.000000  0.642121 -0.418305\n",
      "2  1.077503 -0.192174 -0.596865 -0.733768\n",
      "3  1.036110  0.077610 -0.429882  0.884916\n",
      "4 -0.801923 -0.428444  0.595591  0.000000\n",
      "5  2.397195  0.000000  0.615738 -0.146799\n"
     ]
    }
   ],
   "source": [
    "#用0替换缺失的值\n",
    "nan_result_pd4=df.fillna(0)\n",
    "print(nan_result_pd4)"
   ]
  },
  {
   "cell_type": "code",
   "execution_count": 13,
   "metadata": {},
   "outputs": [
    {
     "name": "stdout",
     "output_type": "stream",
     "text": [
      "       col1      col2      col3      col4\n",
      "0  0.920660 -0.339486 -2.105358 -1.108579\n",
      "1 -1.081427  1.100000  0.642121 -0.418305\n",
      "2  1.077503 -0.192174 -0.596865 -0.733768\n",
      "3  1.036110  0.077610 -0.429882  0.884916\n",
      "4 -0.801923 -0.428444  0.595591  1.200000\n",
      "5  2.397195  1.100000  0.615738 -0.146799\n"
     ]
    }
   ],
   "source": [
    "#用不同的值替换不同列的缺失值\n",
    "nan_result_pd5=df.fillna({'col2':1.1, 'col4':1.2})\n",
    "print(nan_result_pd5)"
   ]
  },
  {
   "cell_type": "code",
   "execution_count": 18,
   "metadata": {},
   "outputs": [
    {
     "name": "stdout",
     "output_type": "stream",
     "text": [
      "       col1      col2      col3      col4\n",
      "0  0.920660 -0.339486 -2.105358 -1.108579\n",
      "1 -1.081427 -0.220624  0.642121 -0.418305\n",
      "2  1.077503 -0.192174 -0.596865 -0.733768\n",
      "3  1.036110  0.077610 -0.429882  0.884916\n",
      "4 -0.801923 -0.428444  0.595591 -0.304507\n",
      "5  2.397195 -0.220624  0.615738 -0.146799\n"
     ]
    }
   ],
   "source": [
    "#用平均数替换，选择各自列的值替换缺失的值\n",
    "nan_result_pd6=df.fillna(df.mean()['col2':'col4'])\n",
    "print(nan_result_pd6)"
   ]
  }
 ],
 "metadata": {
  "kernelspec": {
   "display_name": "Python 3",
   "language": "python",
   "name": "python3"
  },
  "language_info": {
   "codemirror_mode": {
    "name": "ipython",
    "version": 3
   },
   "file_extension": ".py",
   "mimetype": "text/x-python",
   "name": "python",
   "nbconvert_exporter": "python",
   "pygments_lexer": "ipython3",
   "version": "3.6.3"
  }
 },
 "nbformat": 4,
 "nbformat_minor": 2
}
