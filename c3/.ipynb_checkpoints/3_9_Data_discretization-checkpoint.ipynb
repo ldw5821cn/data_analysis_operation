{
 "cells": [
  {
   "cell_type": "code",
   "execution_count": 2,
   "metadata": {},
   "outputs": [],
   "source": [
    "import pandas as pd\n",
    "from sklearn.cluster import KMeans\n",
    "from sklearn import preprocessing"
   ]
  },
  {
   "cell_type": "code",
   "execution_count": 4,
   "metadata": {},
   "outputs": [
    {
     "name": "stdout",
     "output_type": "stream",
     "text": [
      "      id  amount  income             datetime    age\n",
      "0  15093    1390   10.40  2017-04-30 19:24:13   0-10\n",
      "1  15062    4024    4.68  2017-04-27 22:44:59  70-80\n",
      "2  15028    6359    3.84  2017-04-27 10:07:55  40-50\n",
      "3  15012    7759    3.70  2017-04-04 07:28:18  30-40\n",
      "4  15021     331    4.25  2017-04-08 11:14:00  70-80\n"
     ]
    }
   ],
   "source": [
    "#针对时间数据的离散化\n",
    "df = pd.read_table('data7.txt',names=['id','amount','income','datetime','age'])\n",
    "print(df.head(5))"
   ]
  },
  {
   "cell_type": "code",
   "execution_count": 6,
   "metadata": {},
   "outputs": [
    {
     "name": "stderr",
     "output_type": "stream",
     "text": [
      "/Users/liudawei/anaconda3/lib/python3.6/site-packages/ipykernel_launcher.py:3: SettingWithCopyWarning: \n",
      "A value is trying to be set on a copy of a slice from a DataFrame\n",
      "\n",
      "See the caveats in the documentation: http://pandas.pydata.org/pandas-docs/stable/indexing.html#indexing-view-versus-copy\n",
      "  This is separate from the ipykernel package so we can avoid doing imports until\n"
     ]
    },
    {
     "name": "stdout",
     "output_type": "stream",
     "text": [
      "      id  amount  income datetime    age\n",
      "0  15093    1390   10.40        3   0-10\n",
      "1  15062    4024    4.68        3  70-80\n",
      "2  15028    6359    3.84        3  40-50\n",
      "3  15012    7759    3.70        3  30-40\n",
      "4  15021     331    4.25        3  70-80\n"
     ]
    }
   ],
   "source": [
    "for i, single_data in enumerate(df['datetime']):\n",
    "    single_date_tmp = pd.to_datetime(single_data)\n",
    "    df['datetime'][i] = single_date_tmp.weekday()\n",
    "print(df.head(5))"
   ]
  },
  {
   "cell_type": "code",
   "execution_count": 7,
   "metadata": {},
   "outputs": [
    {
     "name": "stdout",
     "output_type": "stream",
     "text": [
      "      id  amount  income datetime  age2\n",
      "0  15093    1390   10.40        3  0-40\n",
      "1  15064    7952    4.40        3  0-40\n",
      "2  15080     503    5.72        3  0-40\n",
      "3  15068    1668    3.19        3  0-40\n",
      "4  15019    6710    3.20        3  0-40\n"
     ]
    }
   ],
   "source": [
    "#针对多指数据的离散化\n",
    "map_df = pd.DataFrame([['0-10', '0-40'], ['10-20', '0-40'], ['20-30', '0-40'], ['30-40', '0-40'], ['40-50', '40-80'],\n",
    "                       ['50-60', '40-80'], ['60-70', '40-80'], ['70-80', '40-80'], ['80-90', '>80'], ['>90', '>80']],\n",
    "                      columns=['age', 'age2']) \n",
    "df_tmp = df.merge(map_df, left_on='age', right_on='age', how='inner')\n",
    "df = df_tmp.drop('age',1)\n",
    "print(df.head(5))"
   ]
  },
  {
   "cell_type": "code",
   "execution_count": 5,
   "metadata": {},
   "outputs": [
    {
     "name": "stdout",
     "output_type": "stream",
     "text": [
      "      id  amount  income datetime  age2        amount1\n",
      "0  15093    1390   10.40        6  0-40   (1000, 5000]\n",
      "1  15064    7952    4.40        0  0-40  (5000, 10000]\n",
      "2  15080     503    5.72        5  0-40    (200, 1000]\n",
      "3  15068    1668    3.19        5  0-40   (1000, 5000]\n",
      "4  15019    6710    3.20        0  0-40  (5000, 10000]\n"
     ]
    }
   ],
   "source": [
    "#针对连续数据的离散化\n",
    "#方法1：自定义分箱区间实现离散化\n",
    "bins = [0,200,1000,5000,10000]\n",
    "df['amount1'] = pd.cut(df['amount'],bins)\n",
    "print(df.head(5))"
   ]
  },
  {
   "cell_type": "code",
   "execution_count": 6,
   "metadata": {},
   "outputs": [
    {
     "name": "stdout",
     "output_type": "stream",
     "text": [
      "      id  amount  income datetime  age2        amount1  amount2\n",
      "0  15093    1390   10.40        6  0-40   (1000, 5000]        2\n",
      "1  15064    7952    4.40        0  0-40  (5000, 10000]        1\n",
      "2  15080     503    5.72        5  0-40    (200, 1000]        2\n"
     ]
    }
   ],
   "source": [
    "#方法2：使用聚类法实现离散\n",
    "data = df['amount']\n",
    "data_reshape = data.values.reshape(data.shape[0],1)\n",
    "model_kmeans = KMeans(n_clusters=4, random_state=0)\n",
    "kmeans_result = model_kmeans.fit_predict(data_reshape)\n",
    "df['amount2'] = kmeans_result\n",
    "print(df.head(3))"
   ]
  },
  {
   "cell_type": "code",
   "execution_count": 7,
   "metadata": {},
   "outputs": [
    {
     "name": "stdout",
     "output_type": "stream",
     "text": [
      "      id  income datetime  age2        amount1  amount2  amount3\n",
      "0  15093   10.40        6  0-40   (1000, 5000]        2      bad\n",
      "1  15064    4.40        0  0-40  (5000, 10000]        1  awesome\n",
      "2  15080    5.72        5  0-40    (200, 1000]        2      bad\n",
      "3  15068    3.19        5  0-40   (1000, 5000]        2      bad\n",
      "4  15019    3.20        0  0-40  (5000, 10000]        1  awesome\n"
     ]
    }
   ],
   "source": [
    "#方法3：使用4分位数实现离散化\n",
    "df['amount3'] = pd.qcut(df['amount'], 4, labels=['bad', 'medium', 'good', 'awesome'])  # 按四分位数进行分隔\n",
    "df = df.drop('amount', 1)  # 丢弃名为amount的列\n",
    "print (df.head(5))"
   ]
  },
  {
   "cell_type": "code",
   "execution_count": 8,
   "metadata": {},
   "outputs": [
    {
     "name": "stdout",
     "output_type": "stream",
     "text": [
      "      id  income datetime  age2        amount1  amount2  amount3\n",
      "0  15093     1.0        6  0-40   (1000, 5000]        2      bad\n",
      "1  15064     1.0        0  0-40  (5000, 10000]        1  awesome\n",
      "2  15080     1.0        5  0-40    (200, 1000]        2      bad\n",
      "3  15068     0.0        5  0-40   (1000, 5000]        2      bad\n",
      "4  15019     0.0        0  0-40  (5000, 10000]        1  awesome\n"
     ]
    }
   ],
   "source": [
    "# 针对连续数据的二值化\n",
    "data_shap = df['income']\n",
    "data_shap_new = data_shap.values.reshape(-1, 1)\n",
    "binarizer_scaler = preprocessing.Binarizer(threshold=data_shap_new.mean())  # 建立Binarizer模型对象\n",
    "income_tmp = binarizer_scaler.fit_transform(data_shap_new)  # Binarizer标准化转换\n",
    "income_tmp.resize(data_shap_new.shape)  # 转换数据形状\n",
    "df['income'] = income_tmp  # Binarizer标准化转换\n",
    "print (df.head(5))  # 打印输出前5条数据"
   ]
  }
 ],
 "metadata": {
  "kernelspec": {
   "display_name": "Python 3",
   "language": "python",
   "name": "python3"
  },
  "language_info": {
   "codemirror_mode": {
    "name": "ipython",
    "version": 3
   },
   "file_extension": ".py",
   "mimetype": "text/x-python",
   "name": "python",
   "nbconvert_exporter": "python",
   "pygments_lexer": "ipython3",
   "version": "3.6.3"
  }
 },
 "nbformat": 4,
 "nbformat_minor": 2
}
