{
 "cells": [
  {
   "cell_type": "code",
   "execution_count": 2,
   "metadata": {},
   "outputs": [],
   "source": [
    "import pandas as pd\n",
    "from sklearn.preprocessing import OneHotEncoder"
   ]
  },
  {
   "cell_type": "code",
   "execution_count": 4,
   "metadata": {},
   "outputs": [
    {
     "name": "stdout",
     "output_type": "stream",
     "text": [
      "        id   level     sex\n",
      "0  3566841  height    male\n",
      "1  6541227     low  Female\n",
      "2  3512441  middle  Female\n"
     ]
    }
   ],
   "source": [
    "#Python标志转换\n",
    "#生成数据\n",
    "data = {\n",
    "    'id':[3566841,6541227,3512441],\n",
    "    'sex':['male','Female','Female'],\n",
    "    'level':['height','low','middle']\n",
    "}\n",
    "df = pd.DataFrame(data)\n",
    "print(df)"
   ]
  },
  {
   "cell_type": "code",
   "execution_count": 31,
   "metadata": {},
   "outputs": [
    {
     "name": "stdout",
     "output_type": "stream",
     "text": [
      "        id  level_height  level_low  level_middle  sex_male  sex_Female\n",
      "0  3566841          True      False         False      True       False\n",
      "1  6541227         False       True         False     False        True\n",
      "2  3512441         False      False          True     False        True\n"
     ]
    }
   ],
   "source": [
    "#自定义转换过程\n",
    "df_new = df.copy()\n",
    "for col_num,col_name in enumerate(df):\n",
    "    col_data = df[col_name]\n",
    "    col_dtype = col_data.dtype\n",
    "    if col_dtype == 'object':\n",
    "        df_new = df_new.drop(col_name,1)\n",
    "        value_sets = col_data.unique()\n",
    "        for value_unique in value_sets:\n",
    "            col_name_new = col_name + \"_\"+value_unique\n",
    "            col_tmp = df.iloc[:,col_num]\n",
    "            new_col = (col_tmp == value_unique)\n",
    "            df_new[col_name_new] = new_col\n",
    "print(df_new)            "
   ]
  },
  {
   "cell_type": "code",
   "execution_count": 38,
   "metadata": {},
   "outputs": [
    {
     "name": "stdout",
     "output_type": "stream",
     "text": [
      "         0    0    1    2    3    4\n",
      "0  3566841  0.0  0.0  1.0  1.0  0.0\n",
      "1  6541227  1.0  0.0  0.0  0.0  1.0\n",
      "2  3512441  0.0  1.0  0.0  0.0  1.0\n"
     ]
    }
   ],
   "source": [
    "# 使用sklearn进行标志转换\n",
    "df2 = pd.DataFrame({'id': [3566841, 6541227, 3512441],\n",
    "                    'sex': [1, 2, 2],\n",
    "                    'level': [3, 1, 2]})\n",
    "id_data = df2.values[:, :1]  # 获得ID列\n",
    "transform_data = df2.values[:, 1:]  # 指定要转换的列\n",
    "enc = OneHotEncoder()  # 建立模型对象\n",
    "df2_new = enc.fit_transform(transform_data).toarray()  # 标志转换\n",
    "df2_all = pd.concat((pd.DataFrame(id_data), pd.DataFrame(df2_new)), axis=1)  # 组合为数据框\n",
    "print (df2_all)  # 打印输出转换后的数据框"
   ]
  }
 ],
 "metadata": {
  "kernelspec": {
   "display_name": "Python 3",
   "language": "python",
   "name": "python3"
  },
  "language_info": {
   "codemirror_mode": {
    "name": "ipython",
    "version": 3
   },
   "file_extension": ".py",
   "mimetype": "text/x-python",
   "name": "python",
   "nbconvert_exporter": "python",
   "pygments_lexer": "ipython3",
   "version": "3.6.3"
  }
 },
 "nbformat": 4,
 "nbformat_minor": 2
}
