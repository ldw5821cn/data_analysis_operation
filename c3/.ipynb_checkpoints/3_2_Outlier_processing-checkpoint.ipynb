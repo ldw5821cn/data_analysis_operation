{
 "cells": [
  {
   "cell_type": "code",
   "execution_count": 74,
   "metadata": {},
   "outputs": [],
   "source": [
    "import pandas as pd"
   ]
  },
  {
   "cell_type": "code",
   "execution_count": 5,
   "metadata": {},
   "outputs": [
    {
     "name": "stdout",
     "output_type": "stream",
     "text": [
      "   col1  col2\n",
      "0     1    12\n",
      "1   120    17\n",
      "2     3    31\n",
      "3     5    53\n",
      "4     2    22\n",
      "5    12    32\n",
      "6    13    43\n"
     ]
    }
   ],
   "source": [
    "#异常值处理\n",
    "#生成异常数据\n",
    "df = pd.DataFrame({'col1':[1,120,3,5,2,12,13],'col2':[12,17,31,53,22,32,43]})\n",
    "print(df)"
   ]
  },
  {
   "cell_type": "code",
   "execution_count": 14,
   "metadata": {},
   "outputs": [
    {
     "name": "stdout",
     "output_type": "stream",
     "text": [
      "    col1  col2\n",
      "0  False    12\n",
      "1   True    17\n",
      "2  False    31\n",
      "3  False    53\n",
      "4  False    22\n",
      "5  False    32\n",
      "6  False    43\n",
      "    col1   col2\n",
      "0  False  False\n",
      "1   True  False\n",
      "2  False  False\n",
      "3  False  False\n",
      "4  False  False\n",
      "5  False  False\n",
      "6  False  False\n"
     ]
    }
   ],
   "source": [
    "#通过Z_Score方法判断异常值\n",
    "df_zscore = df.copy() #复制一个用来存储z-score得分的数据框\n",
    "cols = df.columns\n",
    "for col in cols:\n",
    "    df_col = df[col]\n",
    "    z_score = (df_col - df_col.mean()) / df_col.std() # 计算每列的Z-score得分\n",
    "    df_zscore[col] = z_score.abs() > 2.2 # 大于2.2为true，否则为 false\n",
    "    print(df_zscore)"
   ]
  },
  {
   "cell_type": "code",
   "execution_count": 66,
   "metadata": {},
   "outputs": [
    {
     "name": "stdout",
     "output_type": "stream",
     "text": [
      "  col1  col2 col3\n",
      "0    a     3    a\n",
      "1    a     2    a\n",
      "2    b     3    a\n",
      "3    a     3    c\n",
      "4    b     2    c\n",
      "5    a     2    a\n"
     ]
    }
   ],
   "source": [
    "#重复值处理\n",
    "#生成重复值\n",
    "data1 = ['a',3,'a']\n",
    "data2 = ['a',2,'a']\n",
    "data3 = ['b',3,'a']\n",
    "data4 = ['a',3,'c']\n",
    "data5 = ['b',2,'c']\n",
    "data6 = ['a',2,'a']\n",
    "df = pd.DataFrame([data1,data2,data3,data4,data5,data6],columns=['col1','col2','col3'])\n",
    "print(df)"
   ]
  },
  {
   "cell_type": "code",
   "execution_count": 67,
   "metadata": {},
   "outputs": [
    {
     "name": "stdout",
     "output_type": "stream",
     "text": [
      "0    False\n",
      "1    False\n",
      "2    False\n",
      "3    False\n",
      "4    False\n",
      "5     True\n",
      "dtype: bool\n"
     ]
    }
   ],
   "source": [
    "#判断重复值\n",
    "isDuplicated = df.duplicated()\n",
    "print(isDuplicated)"
   ]
  },
  {
   "cell_type": "code",
   "execution_count": 68,
   "metadata": {},
   "outputs": [
    {
     "name": "stdout",
     "output_type": "stream",
     "text": [
      "  col1  col2 col3\n",
      "0    a     3    a\n",
      "1    a     2    a\n",
      "2    b     3    a\n",
      "3    a     3    c\n",
      "4    b     2    c\n"
     ]
    }
   ],
   "source": [
    "#删除重复的值\n",
    "new_df1 = df.drop_duplicates() # 删除数据记录中所有列值相同的记录\n",
    "print(new_df1)"
   ]
  },
  {
   "cell_type": "code",
   "execution_count": 57,
   "metadata": {},
   "outputs": [
    {
     "name": "stdout",
     "output_type": "stream",
     "text": [
      "  col1  col2 col3\n",
      "0    a     3    a\n",
      "2    b     3    a\n",
      "3    c     2    c\n"
     ]
    }
   ],
   "source": [
    "#删除数据记录中所有列值相同的记录\n",
    "new_df2 = df.drop_duplicates(['col1'])\n",
    "print(new_df2)"
   ]
  },
  {
   "cell_type": "code",
   "execution_count": 69,
   "metadata": {},
   "outputs": [
    {
     "name": "stdout",
     "output_type": "stream",
     "text": [
      "  col1  col2 col3\n",
      "0    a     3    a\n",
      "1    a     2    a\n"
     ]
    }
   ],
   "source": [
    "#删除数据记录中所有列值相同的记录\n",
    "new_df3 = df.drop_duplicates(['col2'])\n",
    "print(new_df3)"
   ]
  },
  {
   "cell_type": "code",
   "execution_count": 71,
   "metadata": {},
   "outputs": [
    {
     "name": "stdout",
     "output_type": "stream",
     "text": [
      "  col1  col2 col3\n",
      "0    a     3    a\n",
      "3    a     3    c\n"
     ]
    }
   ],
   "source": [
    "#删除数据记录中所有列值相同的记录\n",
    "new_df4 = df.drop_duplicates(['col3'])\n",
    "print(new_df4)"
   ]
  },
  {
   "cell_type": "code",
   "execution_count": 72,
   "metadata": {},
   "outputs": [
    {
     "name": "stdout",
     "output_type": "stream",
     "text": [
      "  col1  col2 col3\n",
      "0    a     3    a\n",
      "1    a     2    a\n",
      "2    b     3    a\n",
      "4    b     2    c\n"
     ]
    }
   ],
   "source": [
    "#删除数据中指定列的值相同的记录\n",
    "new_df5 = df.drop_duplicates(['col1','col2'])\n",
    "print(new_df5)"
   ]
  }
 ],
 "metadata": {
  "kernelspec": {
   "display_name": "Python 3",
   "language": "python",
   "name": "python3"
  },
  "language_info": {
   "codemirror_mode": {
    "name": "ipython",
    "version": 3
   },
   "file_extension": ".py",
   "mimetype": "text/x-python",
   "name": "python",
   "nbconvert_exporter": "python",
   "pygments_lexer": "ipython3",
   "version": "3.6.3"
  }
 },
 "nbformat": 4,
 "nbformat_minor": 2
}
