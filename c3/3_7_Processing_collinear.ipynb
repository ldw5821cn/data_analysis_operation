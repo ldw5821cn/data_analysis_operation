{
 "cells": [
  {
   "cell_type": "code",
   "execution_count": 5,
   "metadata": {},
   "outputs": [],
   "source": [
    "#python处理共线问题\n",
    "import numpy as np\n",
    "from sklearn.linear_model import Ridge\n",
    "from sklearn.decomposition import PCA\n",
    "from sklearn.linear_model import LinearRegression"
   ]
  },
  {
   "cell_type": "code",
   "execution_count": 6,
   "metadata": {},
   "outputs": [
    {
     "name": "stdout",
     "output_type": "stream",
     "text": [
      "[ 8.50164360e+01 -1.18330186e-03  9.80792921e-04 -8.54201056e-04\n",
      "  2.10489064e-05  2.20180449e-04 -3.00990875e-06 -9.30084240e-06\n",
      " -2.84498824e-08]\n",
      "-7443.986528680895\n"
     ]
    }
   ],
   "source": [
    "data = np.loadtxt('data5.txt', delimiter='\\t')\n",
    "x = data[:, :-1]\n",
    "y = data[:, -1]\n",
    "model_ridge = Ridge(alpha=1.0)\n",
    "model_ridge.fit(x, y)\n",
    "print(model_ridge.coef_)\n",
    "print(model_ridge.intercept_)"
   ]
  },
  {
   "cell_type": "code",
   "execution_count": 7,
   "metadata": {},
   "outputs": [
    {
     "name": "stdout",
     "output_type": "stream",
     "text": [
      "[0.9028     0.98570494 0.99957412 0.99995908 0.99999562 0.99999939\n",
      " 0.99999999 1.         1.        ]\n"
     ]
    }
   ],
   "source": [
    "model_pca = PCA()\n",
    "data_pca = model_pca.fit_transform(x)\n",
    "ratio_cumsum = np.cumsum(model_pca.explained_variance_ratio_)\n",
    "print(ratio_cumsum)"
   ]
  },
  {
   "cell_type": "code",
   "execution_count": 11,
   "metadata": {},
   "outputs": [
    {
     "name": "stdout",
     "output_type": "stream",
     "text": [
      "[1.26262171e-05]\n",
      "1058.52726\n"
     ]
    }
   ],
   "source": [
    "rule_index = np.where(ratio_cumsum > 0.8)\n",
    "min_index = rule_index[0][0]\n",
    "data_pca_result = data_pca[:,:min_index + 1]\n",
    "model_linear = LinearRegression()\n",
    "model_linear.fit(data_pca_result, y)\n",
    "print(model_linear.coef_)\n",
    "print(model_linear.intercept_)"
   ]
  },
  {
   "cell_type": "code",
   "execution_count": null,
   "metadata": {},
   "outputs": [],
   "source": []
  }
 ],
 "metadata": {
  "kernelspec": {
   "display_name": "Python 3",
   "language": "python",
   "name": "python3"
  },
  "language_info": {
   "codemirror_mode": {
    "name": "ipython",
    "version": 3
   },
   "file_extension": ".py",
   "mimetype": "text/x-python",
   "name": "python",
   "nbconvert_exporter": "python",
   "pygments_lexer": "ipython3",
   "version": "3.6.3"
  }
 },
 "nbformat": 4,
 "nbformat_minor": 2
}
