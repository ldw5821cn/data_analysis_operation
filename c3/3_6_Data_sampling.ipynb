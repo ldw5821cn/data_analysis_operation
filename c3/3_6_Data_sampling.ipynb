{
 "cells": [
  {
   "cell_type": "code",
   "execution_count": 2,
   "metadata": {},
   "outputs": [],
   "source": [
    "#python 数据抽样\n",
    "import random\n",
    "import numpy as np"
   ]
  },
  {
   "cell_type": "code",
   "execution_count": 18,
   "metadata": {},
   "outputs": [],
   "source": [
    "data = np.loadtxt('data3.txt')#读取文件\n",
    "data2 = np.loadtxt('data2.txt')"
   ]
  },
  {
   "cell_type": "code",
   "execution_count": 7,
   "metadata": {},
   "outputs": [
    {
     "name": "stdout",
     "output_type": "stream",
     "text": [
      "[array([-8.85349969,  9.08744698,  6.38822347, -5.64070661, -5.23761588]), array([ -5.88950496, -10.0182026 ,   6.00841678,   0.20851941,\n",
      "         2.90536048])]\n",
      "2000\n"
     ]
    }
   ],
   "source": [
    "#简单的随机抽样\n",
    "list_data = list(data)\n",
    "data_sample = random.sample(list_data, 2000)\n",
    "print(data_sample[:2])\n",
    "print(len(data_sample))"
   ]
  },
  {
   "cell_type": "code",
   "execution_count": 14,
   "metadata": {},
   "outputs": [
    {
     "name": "stdout",
     "output_type": "stream",
     "text": [
      "[array([-3.08057779,  8.09020329,  2.02732982,  2.92353937, -6.06318211]), array([-2.11984871,  7.74916701,  5.7318711 ,  4.75148273, -5.68598747])]\n",
      "2000\n"
     ]
    }
   ],
   "source": [
    "#等距抽样\n",
    "sample_count = 2000\n",
    "record_count = data.shape[0]\n",
    "width = record_count / sample_count\n",
    "data_sample = []\n",
    "i = 0\n",
    "while len(data_sample) <= sample_count and i * width <= record_count - 1:\n",
    "    data_sample.append(data[i * int(width)])\n",
    "    i += 1\n",
    "print(data_sample[:2])\n",
    "print(len(data_sample))"
   ]
  },
  {
   "cell_type": "code",
   "execution_count": 19,
   "metadata": {},
   "outputs": [
    {
     "name": "stdout",
     "output_type": "stream",
     "text": [
      "{0.0: 200, 1.0: 200}\n"
     ]
    }
   ],
   "source": [
    "#分层抽样\n",
    "each_sample_count = 200\n",
    "lable_data_unique = np.unique(data2[:,-1])\n",
    "sample_list = []\n",
    "sample_data = []\n",
    "sample_dict = {}\n",
    "for lable_data in lable_data_unique:\n",
    "    for data_tmp in data2:\n",
    "        if data_tmp[-1] == lable_data:\n",
    "            sample_list.append(data_tmp)\n",
    "    each_sample_data = random.sample(sample_list, each_sample_count)\n",
    "    sample_data.extend(each_sample_data)\n",
    "    sample_dict[lable_data] = len(each_sample_data)\n",
    "print(sample_dict)"
   ]
  },
  {
   "cell_type": "code",
   "execution_count": 30,
   "metadata": {},
   "outputs": [
    {
     "name": "stdout",
     "output_type": "stream",
     "text": [
      "[0. 1. 2. 3.]\n",
      "[1.0, 3.0]\n",
      "502\n"
     ]
    }
   ],
   "source": [
    "#整群抽样\n",
    "data3 = np.loadtxt('data4.txt')\n",
    "lable_data_unique = np.unique(data3[:,-1])\n",
    "print(lable_data_unique)\n",
    "sample_lable = random.sample(list(lable_data_unique), 2)\n",
    "sample_data = []\n",
    "for each_lable in sample_lable:\n",
    "    for data_tmp in data3:\n",
    "        if data_tmp[-1] == each_lable:\n",
    "            sample_data.append(data_tmp)\n",
    "print(sample_lable)\n",
    "print(len(sample_data))"
   ]
  }
 ],
 "metadata": {
  "kernelspec": {
   "display_name": "Python 3",
   "language": "python",
   "name": "python3"
  },
  "language_info": {
   "codemirror_mode": {
    "name": "ipython",
    "version": 3
   },
   "file_extension": ".py",
   "mimetype": "text/x-python",
   "name": "python",
   "nbconvert_exporter": "python",
   "pygments_lexer": "ipython3",
   "version": "3.6.3"
  }
 },
 "nbformat": 4,
 "nbformat_minor": 2
}
