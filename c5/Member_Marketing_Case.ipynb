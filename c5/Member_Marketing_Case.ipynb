{
 "cells": [
  {
   "cell_type": "code",
   "execution_count": 1,
   "metadata": {},
   "outputs": [],
   "source": [
    "#会员数据营销案例"
   ]
  },
  {
   "cell_type": "code",
   "execution_count": 22,
   "metadata": {},
   "outputs": [],
   "source": [
    "import time\n",
    "import numpy as np\n",
    "import pandas as pd"
   ]
  },
  {
   "cell_type": "code",
   "execution_count": 3,
   "metadata": {},
   "outputs": [
    {
     "name": "stdout",
     "output_type": "stream",
     "text": [
      "Data OVerview:\n",
      "         ORDERDATE     ORDERID  AMOUNTINFO\n",
      "USERID                                    \n",
      "142074  2016-01-01  4196439032      9399.0\n",
      "56927   2016-01-01  4198324983      8799.0\n",
      "87058   2016-01-01  4191287379      6899.0\n",
      "136104  2016-01-01  4198508313      5999.0\n",
      "------------------------------\n",
      "Data DESC:\n",
      "         AMOUNTINFO\n",
      "count  86127.000000\n",
      "mean     744.762939\n",
      "std     1425.194336\n",
      "min        0.500000\n",
      "25%       13.000000\n",
      "50%       59.000000\n",
      "75%      629.000000\n",
      "max    30999.000000\n",
      "------------------------------------------------------------\n"
     ]
    }
   ],
   "source": [
    "dtypes = {'ORDERDATE':object, 'ORDERID':object, 'AMOUNTINFO': np.float32}#设置每列数据类型\n",
    "raw_data = pd.read_csv('sales.csv',dtype=dtypes, index_col='USERID')\n",
    "#数据概览\n",
    "print('Data OVerview:')\n",
    "print(raw_data.head(4))\n",
    "print('-' * 30)\n",
    "print('Data DESC:')\n",
    "print(raw_data.describe())\n",
    "print('-' * 60)"
   ]
  },
  {
   "cell_type": "code",
   "execution_count": 4,
   "metadata": {},
   "outputs": [
    {
     "name": "stdout",
     "output_type": "stream",
     "text": [
      "NA Cols:\n",
      "ORDERDATE      True\n",
      "ORDERID       False\n",
      "AMOUNTINFO     True\n",
      "dtype: bool\n",
      "------------------------------\n",
      "NA Recors:\n",
      "Total number of NA lines is: 10\n",
      "         ORDERDATE     ORDERID  AMOUNTINFO\n",
      "USERID                                    \n",
      "75849   2016-01-01  4197103430         NaN\n",
      "103714         NaN  4136159682       189.0\n",
      "155209  2016-01-01  4177940815         NaN\n",
      "139877         NaN  4111956196         6.3\n",
      "54599   2016-01-01  4119525205         NaN\n",
      "65456   2016-01-02  4195643356         NaN\n",
      "122134  2016-09-21  3826649773         NaN\n",
      "116995  2016-10-24  3981569421         NaN\n",
      "98888   2016-12-06  3814398698         NaN\n",
      "145951  2016-12-29  4139830098         NaN\n",
      "------------------------------------------------------------\n"
     ]
    }
   ],
   "source": [
    "#缺失值审查\n",
    "na_cols = raw_data.isnull().any(axis=0) #查看每一列的是否具有缺失值\n",
    "print('NA Cols:')\n",
    "print(na_cols)\n",
    "print('-' * 30)\n",
    "na_lines = raw_data.isnull().any(axis=1)\n",
    "print('NA Recors:')\n",
    "print('Total number of NA lines is: {0}'.format(na_lines.sum())) #查看具有缺失值得行总记录数\n",
    "print(raw_data[na_lines]) #只查看具有缺失值的行信息\n",
    "print('-' * 60)"
   ]
  },
  {
   "cell_type": "code",
   "execution_count": 5,
   "metadata": {},
   "outputs": [],
   "source": [
    "#异常值处理\n",
    "sales_data = raw_data.dropna() #丢弃带有缺失值得行记录\n",
    "sales_data = sales_data[sales_data['AMOUNTINFO'] > 1] #丢弃订单金额 <= 1的记录"
   ]
  },
  {
   "cell_type": "code",
   "execution_count": 6,
   "metadata": {},
   "outputs": [
    {
     "name": "stdout",
     "output_type": "stream",
     "text": [
      "Raw Dtypes:\n",
      "ORDERDATE     datetime64[ns]\n",
      "ORDERID               object\n",
      "AMOUNTINFO           float32\n",
      "dtype: object\n",
      "------------------------------------------------------------\n"
     ]
    }
   ],
   "source": [
    "#日期格式转换\n",
    "sales_data['ORDERDATE'] = pd.to_datetime(sales_data['ORDERDATE'], format='%Y-%m-%d')\n",
    "print('Raw Dtypes:')\n",
    "print(sales_data.dtypes)\n",
    "print('-' * 60)"
   ]
  },
  {
   "cell_type": "code",
   "execution_count": 7,
   "metadata": {},
   "outputs": [],
   "source": [
    "#数据转换\n",
    "recency_value = sales_data['ORDERDATE'].groupby(sales_data.index).max() #计算原始最近一次订单时间\n",
    "frequency_value = sales_data['ORDERDATE'].groupby(sales_data.index).count() #计算原始订单频率\n",
    "monetary_value = sales_data['AMOUNTINFO'].groupby(sales_data.index).sum() #计算原始订单总金额"
   ]
  },
  {
   "cell_type": "code",
   "execution_count": 8,
   "metadata": {},
   "outputs": [],
   "source": [
    "#计算RFM得分\n",
    "deadline_date = pd.datetime(2017,1,1)\n",
    "r_interval = (deadline_date - recency_value).dt.days #计算R间隔\n",
    "r_score = pd.cut(r_interval, 5, labels=[5, 4, 3, 2, 1]) #计算R得分\n",
    "f_score = pd.cut(frequency_value, 5, labels=[1, 2, 3, 4, 5]) #计算F得分\n",
    "m_score = pd.cut(monetary_value, 5, labels=[1,2,3,4,5]) #计算M得分"
   ]
  },
  {
   "cell_type": "code",
   "execution_count": 9,
   "metadata": {},
   "outputs": [
    {
     "name": "stdout",
     "output_type": "stream",
     "text": [
      "RFM Score Overview\n",
      "        r_score  f_score  m_score\n",
      "USERID                           \n",
      "51220         4        1        1\n",
      "51221         2        1        1\n",
      "51224         3        1        1\n",
      "51225         4        1        1\n",
      "------------------------------------------------------------\n"
     ]
    }
   ],
   "source": [
    "#R、F、M 数据合并\n",
    "rfm_list = [r_score, f_score, m_score] #将r、f、m三个维度组成列表\n",
    "rfm_cols = ['r_score','f_score','m_score'] #设置r、f、m 三个维度\n",
    "rfm_pd = pd.DataFrame(np.array(rfm_list).transpose(),dtype=np.int32, columns=rfm_cols,index=frequency_value.index)\n",
    "print('RFM Score Overview')\n",
    "print(rfm_pd.head(4))\n",
    "print('-' * 60)"
   ]
  },
  {
   "cell_type": "code",
   "execution_count": 20,
   "metadata": {},
   "outputs": [],
   "source": [
    "# 计算RFM总得分\n",
    "# 方法一：加权得分\n",
    "rfm_pd['rfm_wscore'] = rfm_pd['r_score'] * 0.6 + rfm_pd['f_score'] * 0.3 + rfm_pd['m_score'] * 0.1\n",
    "# 方法二：RFM组合\n",
    "rfm_pd_tmp = rfm_pd.copy()\n",
    "rfm_pd_tmp['r_score'] = rfm_pd_tmp['r_score'].astype('str')\n",
    "rfm_pd_tmp['f_score'] = rfm_pd_tmp['f_score'].astype('str')\n",
    "rfm_pd_tmp['m_score'] = rfm_pd_tmp['m_score'].astype('str')\n",
    "rfm_pd['rfm_comb'] = rfm_pd_tmp['r_score'].str.cat(rfm_pd_tmp['f_score']).str.cat(rfm_pd_tmp['m_score'])"
   ]
  },
  {
   "cell_type": "code",
   "execution_count": 21,
   "metadata": {},
   "outputs": [
    {
     "name": "stdout",
     "output_type": "stream",
     "text": [
      "Final RFM Scores Overview:\n",
      "        r_score  f_score  m_score  rfm_wscore rfm_comb\n",
      "USERID                                                \n",
      "51220         4        1        1         2.8      411\n",
      "51221         2        1        1         1.6      211\n",
      "51224         3        1        1         2.2      311\n",
      "51225         4        1        1         2.8      411\n",
      "------------------------------\n",
      "Final RFM Scores DESC:\n",
      "            r_score       f_score       m_score    rfm_wscore\n",
      "count  59676.000000  59676.000000  59676.000000  59676.000000\n",
      "mean       3.299970      1.013439      1.000134      2.384027\n",
      "std        1.402166      0.116017      0.018307      0.845380\n",
      "min        1.000000      1.000000      1.000000      1.000000\n",
      "25%        2.000000      1.000000      1.000000      1.600000\n",
      "50%        3.000000      1.000000      1.000000      2.200000\n",
      "75%        5.000000      1.000000      1.000000      3.400000\n",
      "max        5.000000      5.000000      5.000000      5.000000\n"
     ]
    }
   ],
   "source": [
    "# 打印输出和保存结果\n",
    "# 打印结果\n",
    "print ('Final RFM Scores Overview:')\n",
    "print (rfm_pd.head(4))  # 打印数据前4项结果\n",
    "print ('-' * 30)\n",
    "print ('Final RFM Scores DESC:')\n",
    "print (rfm_pd.describe())"
   ]
  },
  {
   "cell_type": "code",
   "execution_count": 12,
   "metadata": {},
   "outputs": [],
   "source": [
    "# 保存RFM得分到本地文件\n",
    "rfm_pd.to_csv('sales_rfm_score.csv')  # 保存数据为csv"
   ]
  }
 ],
 "metadata": {
  "kernelspec": {
   "display_name": "Python 3",
   "language": "python",
   "name": "python3"
  },
  "language_info": {
   "codemirror_mode": {
    "name": "ipython",
    "version": 3
   },
   "file_extension": ".py",
   "mimetype": "text/x-python",
   "name": "python",
   "nbconvert_exporter": "python",
   "pygments_lexer": "ipython3",
   "version": "3.6.3"
  }
 },
 "nbformat": 4,
 "nbformat_minor": 2
}
