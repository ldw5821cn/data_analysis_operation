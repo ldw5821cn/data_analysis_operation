{
 "cells": [
  {
   "cell_type": "code",
   "execution_count": 1,
   "metadata": {},
   "outputs": [],
   "source": [
    "#基于超参数优化的Gradient Boosting 的销售预测"
   ]
  },
  {
   "cell_type": "code",
   "execution_count": 5,
   "metadata": {},
   "outputs": [
    {
     "name": "stderr",
     "output_type": "stream",
     "text": [
      "/Users/liudawei/anaconda3/lib/python3.6/importlib/_bootstrap.py:219: RuntimeWarning: numpy.dtype size changed, may indicate binary incompatibility. Expected 96, got 88\n",
      "  return f(*args, **kwds)\n",
      "/Users/liudawei/anaconda3/lib/python3.6/importlib/_bootstrap.py:219: RuntimeWarning: numpy.dtype size changed, may indicate binary incompatibility. Expected 96, got 88\n",
      "  return f(*args, **kwds)\n",
      "/Users/liudawei/anaconda3/lib/python3.6/importlib/_bootstrap.py:219: RuntimeWarning: numpy.dtype size changed, may indicate binary incompatibility. Expected 96, got 88\n",
      "  return f(*args, **kwds)\n",
      "/Users/liudawei/anaconda3/lib/python3.6/importlib/_bootstrap.py:219: RuntimeWarning: numpy.dtype size changed, may indicate binary incompatibility. Expected 96, got 88\n",
      "  return f(*args, **kwds)\n",
      "/Users/liudawei/anaconda3/lib/python3.6/importlib/_bootstrap.py:219: RuntimeWarning: numpy.dtype size changed, may indicate binary incompatibility. Expected 96, got 88\n",
      "  return f(*args, **kwds)\n",
      "/Users/liudawei/anaconda3/lib/python3.6/importlib/_bootstrap.py:219: RuntimeWarning: numpy.dtype size changed, may indicate binary incompatibility. Expected 96, got 88\n",
      "  return f(*args, **kwds)\n",
      "/Users/liudawei/anaconda3/lib/python3.6/importlib/_bootstrap.py:219: RuntimeWarning: numpy.dtype size changed, may indicate binary incompatibility. Expected 96, got 88\n",
      "  return f(*args, **kwds)\n",
      "/Users/liudawei/anaconda3/lib/python3.6/site-packages/sklearn/ensemble/weight_boosting.py:29: DeprecationWarning: numpy.core.umath_tests is an internal NumPy module and should not be imported. It will be removed in a future NumPy release.\n",
      "  from numpy.core.umath_tests import inner1d\n"
     ]
    }
   ],
   "source": [
    "import numpy as np\n",
    "import pandas as pd\n",
    "from sklearn.ensemble import GradientBoostingRegressor\n",
    "from sklearn.model_selection import GridSearchCV\n",
    "import matplotlib.pyplot as plt"
   ]
  },
  {
   "cell_type": "code",
   "execution_count": 7,
   "metadata": {},
   "outputs": [],
   "source": [
    "#读取数据\n",
    "raw_data = pd.read_table('products_sales.txt', delimiter=',')"
   ]
  },
  {
   "cell_type": "code",
   "execution_count": 8,
   "metadata": {},
   "outputs": [
    {
     "name": "stdout",
     "output_type": "stream",
     "text": [
      "***********************Data overview:***********************\n",
      "     limit_infor  campaign_type  campaign_level  product_level  \\\n",
      "729            0              6               0              1   \n",
      "730            0              6               0              1   \n",
      "\n",
      "     resource_amount  email_rate  price  discount_rate  hour_resouces  \\\n",
      "729                8         0.8  150.0           0.87            987   \n",
      "730                9         0.8  149.0           0.84           1448   \n",
      "\n",
      "     campaign_fee  orders  \n",
      "729          2298    3285  \n",
      "730          3392    4840  \n",
      "************************Data dtypes:************************\n",
      "limit_infor          int64\n",
      "campaign_type        int64\n",
      "campaign_level       int64\n",
      "product_level        int64\n",
      "resource_amount      int64\n",
      "email_rate         float64\n",
      "price              float64\n",
      "discount_rate      float64\n",
      "hour_resouces        int64\n",
      "campaign_fee         int64\n",
      "orders               int64\n",
      "dtype: object\n",
      "*************************Data DESC:*************************\n",
      "                 count    mean     std    min     25%     50%     75%      max\n",
      "limit_infor      731.0     0.0     0.4    0.0     0.0     0.0     0.0     10.0\n",
      "campaign_type    731.0     3.0     2.0    0.0     1.0     3.0     5.0      6.0\n",
      "campaign_level   731.0     0.7     0.5    0.0     0.0     1.0     1.0      1.0\n",
      "product_level    731.0     1.4     0.5    1.0     1.0     1.0     2.0      3.0\n",
      "resource_amount  731.0     5.0     1.8    1.0     3.0     5.0     7.0      9.0\n",
      "email_rate       731.0     0.5     0.2    0.1     0.3     0.5     0.6      0.8\n",
      "price            729.0   162.8    14.3  100.0   152.0   163.0   173.0    197.0\n",
      "discount_rate    731.0     0.8     0.1    0.5     0.8     0.8     0.9      1.0\n",
      "hour_resouces    731.0   848.2   686.6    2.0   315.5   713.0  1096.0   3410.0\n",
      "campaign_fee     731.0  3696.4  1908.6   20.0  2497.0  3662.0  4795.5  33380.0\n",
      "orders           731.0  4531.1  1932.5   22.0  3199.0  4563.0  6011.5   8714.0\n"
     ]
    }
   ],
   "source": [
    "# 数据审查和校验\n",
    "# 数据概览\n",
    "print ('{:*^60}'.format('Data overview:'))\n",
    "print (raw_data.tail(2))  # 打印原始数据后2条\n",
    "print ('{:*^60}'.format('Data dtypes:'))\n",
    "print (raw_data.dtypes)  # 打印数据类型\n",
    "print ('{:*^60}'.format('Data DESC:'))\n",
    "print (raw_data.describe().round(1).T)  # 打印原始数据基本描述性信息"
   ]
  },
  {
   "cell_type": "code",
   "execution_count": 9,
   "metadata": {},
   "outputs": [
    {
     "name": "stdout",
     "output_type": "stream",
     "text": [
      "**************limit_infor unique values:[ 0  1 10]***************\n",
      "**************campaign_type unique values:[0 1 2 3 4 5 6]***************\n",
      "**************campaign_level unique values:[0 1]***************\n",
      "**************product_level unique values:[1 2 3]***************\n"
     ]
    }
   ],
   "source": [
    "# 查看值域分布\n",
    "col_names = ['limit_infor', 'campaign_type', 'campaign_level', 'product_level']  # 定义要查看的列\n",
    "for col_name in col_names:  # 循环读取每个列\n",
    "    unque_value = np.sort(raw_data[col_name].unique())  # 获得列唯一值\n",
    "    print ('{:*^50}'.format('{1} unique values:{0}').format(unque_value, col_name))  # 打印输出"
   ]
  },
  {
   "cell_type": "code",
   "execution_count": 10,
   "metadata": {},
   "outputs": [
    {
     "name": "stdout",
     "output_type": "stream",
     "text": [
      "**************************NA Cols:**************************\n",
      "limit_infor        False\n",
      "campaign_type      False\n",
      "campaign_level     False\n",
      "product_level      False\n",
      "resource_amount    False\n",
      "email_rate         False\n",
      "price               True\n",
      "discount_rate      False\n",
      "hour_resouces      False\n",
      "campaign_fee       False\n",
      "orders             False\n",
      "dtype: bool\n",
      "Total number of NA lines is: 2\n"
     ]
    }
   ],
   "source": [
    "# 缺失值审查\n",
    "na_cols = raw_data.isnull().any(axis=0)  # 查看每一列是否具有缺失值\n",
    "print ('{:*^60}'.format('NA Cols:'))\n",
    "print (na_cols)  # 查看具有缺失值的列\n",
    "na_lines = raw_data.isnull().any(axis=1)  # 查看每一行是否具有缺失值\n",
    "print ('Total number of NA lines is: {0}'.format(na_lines.sum()))  # 查看具有缺失值的行总记录数"
   ]
  },
  {
   "cell_type": "code",
   "execution_count": 11,
   "metadata": {},
   "outputs": [
    {
     "name": "stdout",
     "output_type": "stream",
     "text": [
      "********************Correlation Analyze:********************\n",
      "          li    ct    cl    pl    ra    er  price    dr    hr    cf  orders\n",
      "li      1.00 -0.03 -0.08 -0.04  0.05  0.04  -0.02  0.00  0.01 -0.04   -0.02\n",
      "ct     -0.03  1.00  0.04  0.03  0.01 -0.01  -0.05 -0.01  0.06  0.06    0.06\n",
      "cl     -0.08  0.04  1.00  0.06  0.05  0.05   0.02  0.02 -0.52  0.26    0.05\n",
      "pl     -0.04  0.03  0.06  1.00 -0.12 -0.12   0.59 -0.04 -0.25 -0.23   -0.30\n",
      "ra      0.05  0.01  0.05 -0.12  1.00  0.98   0.13  0.15  0.54  0.46    0.62\n",
      "er      0.04 -0.01  0.05 -0.12  0.98  1.00   0.14  0.18  0.54  0.47    0.63\n",
      "price  -0.02 -0.05  0.02  0.59  0.13  0.14   1.00  0.25 -0.08 -0.11   -0.10\n",
      "dr      0.00 -0.01  0.02 -0.04  0.15  0.18   0.25  1.00  0.17  0.19    0.23\n",
      "hr      0.01  0.06 -0.52 -0.25  0.54  0.54  -0.08  0.17  1.00  0.32    0.66\n",
      "cf     -0.04  0.06  0.26 -0.23  0.46  0.47  -0.11  0.19  0.32  1.00    0.76\n",
      "orders -0.02  0.06  0.05 -0.30  0.62  0.63  -0.10  0.23  0.66  0.76    1.00\n",
      "{'limit_infor': 'li', 'campaign_type': 'ct', 'campaign_level': 'cl', 'product_level': 'pl', 'resource_amount': 'ra', 'email_rate': 'er', 'price': 'price', 'discount_rate': 'dr', 'hour_resouces': 'hr', 'campaign_fee': 'cf', 'orders': 'orders'}\n"
     ]
    }
   ],
   "source": [
    "# 相关性分析\n",
    "print ('{:*^60}'.format('Correlation Analyze:'))\n",
    "short_name = ['li', 'ct', 'cl', 'pl', 'ra', 'er', 'price', 'dr', 'hr', 'cf', 'orders']\n",
    "long_name = raw_data.columns\n",
    "name_dict = dict(zip(long_name, short_name))\n",
    "print (raw_data.corr().round(2).rename(index=name_dict, columns=name_dict))  # 输出所有输入特征变量以及预测变量的相关性矩阵\n",
    "print (name_dict)"
   ]
  },
  {
   "cell_type": "code",
   "execution_count": 13,
   "metadata": {},
   "outputs": [
    {
     "name": "stdout",
     "output_type": "stream",
     "text": [
      "*********************transformed data:**********************\n",
      "        count     mean      std     min      25%      50%      75%      max\n",
      "li      730.0     0.03     0.17    0.00     0.00     0.00     0.00     1.00\n",
      "ct      730.0     3.00     2.01    0.00     1.00     3.00     5.00     6.00\n",
      "cl      730.0     0.68     0.47    0.00     0.00     1.00     1.00     1.00\n",
      "pl      730.0     1.40     0.55    1.00     1.00     1.00     2.00     3.00\n",
      "ra      730.0     4.95     1.84    1.00     3.00     5.00     7.00     9.00\n",
      "er      730.0     0.47     0.16    0.08     0.34     0.48     0.61     0.84\n",
      "price   730.0   162.82    14.26  100.00   152.00   163.00   173.00   197.00\n",
      "dr      730.0     0.81     0.08    0.49     0.77     0.82     0.87     0.98\n",
      "hr      730.0   848.51   687.03    2.00   315.25   717.00  1096.50  3410.00\n",
      "cf      730.0  3655.61  1561.27   20.00  2495.00  3660.00  4783.25  6946.00\n",
      "orders  730.0  4531.27  1933.85   22.00  3196.50  4566.00  6021.25  8714.00\n"
     ]
    }
   ],
   "source": [
    "# 数据预处理\n",
    "# 异常值处理\n",
    "sales_data = raw_data.fillna(raw_data['price'].mean())  # 缺失值替换为均值\n",
    "# sales_data = raw_data.drop('email_rate',axis=1) # 丢弃缺失值\n",
    "sales_data = sales_data[sales_data['limit_infor'].isin((0, 1))]  # 只保留促销值为0和1的记录\n",
    "sales_data['campaign_fee'] = sales_data['campaign_fee'].replace(33380, sales_data['campaign_fee'].mean())  # 将异常极大值替换为均值\n",
    "print ('{:*^60}'.format('transformed data:'))\n",
    "print (sales_data.describe().round(2).T.rename(index=name_dict))  # 打印处理完成数据基本描述性信息"
   ]
  },
  {
   "cell_type": "code",
   "execution_count": 14,
   "metadata": {},
   "outputs": [],
   "source": [
    "#分割数据集X和y\n",
    "X = sales_data.iloc[:, :-1]  # 分割X\n",
    "y = sales_data.iloc[:, -1]  # 分割y"
   ]
  },
  {
   "cell_type": "code",
   "execution_count": 15,
   "metadata": {},
   "outputs": [
    {
     "name": "stdout",
     "output_type": "stream",
     "text": [
      "Best score is: 0.9315608531942923\n",
      "Best parameter is: {'alpha': 0.9, 'loss': 'huber', 'min_samples_leaf': 3}\n"
     ]
    }
   ],
   "source": [
    "# 模型最优化参数训练及检验\n",
    "model_gbr = GradientBoostingRegressor()  # 建立GradientBoostingRegressor回归对象\n",
    "parameters = {'loss': ['ls', 'lad', 'huber', 'quantile'],\n",
    "              'min_samples_leaf': [1, 2, 3, 4, 5],\n",
    "              'alpha': [0.1, 0.3, 0.6, 0.9]}  # 定义要优化的参数信息\n",
    "model_gs = GridSearchCV(estimator=model_gbr, param_grid=parameters, cv=5)  # 建立交叉检验模型对象\n",
    "model_gs.fit(X, y)  # 训练交叉检验模型\n",
    "print ('Best score is:', model_gs.best_score_)  # 获得交叉检验模型得出的最优得分\n",
    "print ('Best parameter is:', model_gs.best_params_)  # 获得交叉检验模型得出的最优参数"
   ]
  },
  {
   "cell_type": "code",
   "execution_count": 17,
   "metadata": {},
   "outputs": [
    {
     "data": {
      "image/png": "[encoded data removed]",
      "text/plain": [
       "<Figure size 432x288 with 1 Axes>"
      ]
     },
     "metadata": {},
     "output_type": "display_data"
    }
   ],
   "source": [
    "# 获取最佳训练模型\n",
    "model_best = model_gs.best_estimator_  # 获得交叉检验模型得出的最优模型对象\n",
    "model_best.fit(X, y)  # 训练最优模型\n",
    "plt.style.use(\"ggplot\")  # 应用ggplot自带样式库\n",
    "plt.figure()  # 建立画布对象\n",
    "plt.plot(np.arange(X.shape[0]), y, label='true y')  # 画出原始变量的曲线\n",
    "plt.plot(np.arange(X.shape[0]), model_best.predict(X), label='predicted y')  # 画出预测变量曲线\n",
    "plt.legend(loc=0)  # 设置图例位置\n",
    "plt.show()  # 展示图像"
   ]
  },
  {
   "cell_type": "code",
   "execution_count": 18,
   "metadata": {},
   "outputs": [
    {
     "name": "stdout",
     "output_type": "stream",
     "text": [
      "*********************Predicted orders:**********************\n",
      "[779.]\n"
     ]
    }
   ],
   "source": [
    "# 新数据集预测\n",
    "New_X = np.array([[1, 1, 0, 1, 15, 0.5, 177, 0.66, 101, 798]])  # 要预测的新数据记录\n",
    "print ('{:*^60}'.format('Predicted orders:'))\n",
    "print (model_best.predict(New_X).round(0))  # 打印输出预测值"
   ]
  }
 ],
 "metadata": {
  "kernelspec": {
   "display_name": "Python 3",
   "language": "python",
   "name": "python3"
  },
  "language_info": {
   "codemirror_mode": {
    "name": "ipython",
    "version": 3
   },
   "file_extension": ".py",
   "mimetype": "text/x-python",
   "name": "python",
   "nbconvert_exporter": "python",
   "pygments_lexer": "ipython3",
   "version": "3.6.3"
  }
 },
 "nbformat": 4,
 "nbformat_minor": 2
}
