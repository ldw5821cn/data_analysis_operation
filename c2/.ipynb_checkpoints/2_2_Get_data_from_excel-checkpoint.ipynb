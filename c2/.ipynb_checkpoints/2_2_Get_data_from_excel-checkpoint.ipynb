{
 "cells": [
  {
   "cell_type": "code",
   "execution_count": 10,
   "metadata": {},
   "outputs": [],
   "source": [
    "import PIL.Image\n",
    "import cv2 as cv\n",
    "import json\n",
    "import base64\n",
    "import requests"
   ]
  },
  {
   "cell_type": "code",
   "execution_count": 2,
   "metadata": {},
   "outputs": [],
   "source": [
    "file = 'cat.jpg'\n",
    "img = PIL.Image.open(file, mode='r')\n",
    "img.show()"
   ]
  },
  {
   "cell_type": "code",
   "execution_count": 3,
   "metadata": {},
   "outputs": [
    {
     "name": "stdout",
     "output_type": "stream",
     "text": [
      "img forma: JPEG\n",
      "img size: (435, 361)\n",
      "img mode: RGB\n"
     ]
    }
   ],
   "source": [
    "print('img forma:',img.format)\n",
    "print('img size:',img.size)\n",
    "print('img mode:',img.mode)"
   ]
  },
  {
   "cell_type": "code",
   "execution_count": 4,
   "metadata": {},
   "outputs": [],
   "source": [
    "img_gray = img.convert('L')\n",
    "img_gray.show()"
   ]
  },
  {
   "cell_type": "code",
   "execution_count": 5,
   "metadata": {},
   "outputs": [],
   "source": [
    "img_cv = cv.imread(file)\n",
    "cv.namedWindow('a_window')\n",
    "cv.imshow('a_window',img_cv)\n",
    "cv.waitKey(0)"
   ]
  },
  {
   "cell_type": "code",
   "execution_count": 6,
   "metadata": {},
   "outputs": [
    {
     "name": "stdout",
     "output_type": "stream",
     "text": [
      "frame count:  444.0\n",
      "frame fps:  14.999925000374999\n"
     ]
    }
   ],
   "source": [
    "cap = cv.VideoCapture('tree.mov')\n",
    "status = cap.isOpened()\n",
    "if status:\n",
    "    frame_width = cap.get(3)\n",
    "    frame_height = cap.get(4)\n",
    "    frame_count = cap.get(7)\n",
    "    frame_fps = cap.get(5)\n",
    "    print('frame count: ',frame_count)\n",
    "    print('frame fps: ',frame_fps)"
   ]
  },
  {
   "cell_type": "code",
   "execution_count": 7,
   "metadata": {},
   "outputs": [],
   "source": [
    "success, frame = cap.read()\n",
    "while success:\n",
    "    cv.imshow('vidoe frame',frame)\n",
    "    success, frame = cap.read()\n",
    "    k = cv.waitKey(1000/ int(frame_fps))\n",
    "    if k == 27:\n",
    "        break              \n",
    "cv.destroyAllWindows()\n",
    "cap.release()"
   ]
  },
  {
   "cell_type": "code",
   "execution_count": 25,
   "metadata": {},
   "outputs": [
    {
     "name": "stdout",
     "output_type": "stream",
     "text": [
      "{\"corpus_no\":\"6587669986976855928\",\"err_msg\":\"success.\",\"err_no\":0,\"result\":[\"百度语音提供技术支持，\"],\"sn\":\"119866133251533811443\"}\n",
      "\n",
      "['百度语音提供技术支持，']\n"
     ]
    }
   ],
   "source": [
    "API_Key = 'KIlNdK93BekGN2nUCoFDALZV'\n",
    "securet_Key = 'x7MIUTwOmDES1SqG9K2EXX7nIh3jjG7d'\n",
    "token_url = 'https://openapi.baidu.com/oauth/2.0/token?grant_type=client_credentials&client_id=%s&client_secret=%s&'\n",
    "res_vi = requests.get(token_url%(API_Key, securet_Key))\n",
    "res_vi_text = res_vi.text\n",
    "token = json.loads(res_vi_text)['access_token']\n",
    "voice_file = 'baidu_voice_test.pcm'\n",
    "voice_fn = open(voice_file,'rb')\n",
    "org_voice_data = voice_fn.read()\n",
    "org_voice_len = len(org_voice_data)\n",
    "base64_voice_data = base64.b64encode(org_voice_data)\n",
    "headers = {\n",
    "    'content-type':'application/json'\n",
    "}\n",
    "payload = {\n",
    "    \"format\":\"pcm\",\n",
    "    \"rate\":8000,\n",
    "    \"channel\":1,\n",
    "    \"token\":token,\n",
    "    \"cuid\":\"B8-76-3F-41-3E-2B\",\n",
    "    \"len\":org_voice_len,\n",
    "    \"speech\":base64_voice_data\n",
    "}\n",
    "#byte 转换 utf8\n",
    "payload[\"speech\"] = payload[\"speech\"].decode(\"utf8\")\n",
    "data = json.dumps(payload)\n",
    "vop_url = 'http://vop.baidu.com/server_api'\n",
    "voice_res = requests.post(vop_url,data=data,headers=headers)\n",
    "api_data = voice_res.text\n",
    "text_data = json.loads(api_data)['result']\n",
    "print(api_data)\n",
    "print(text_data)"
   ]
  },
  {
   "cell_type": "code",
   "execution_count": null,
   "metadata": {},
   "outputs": [],
   "source": []
  }
 ],
 "metadata": {
  "kernelspec": {
   "display_name": "Python 3",
   "language": "python",
   "name": "python3"
  },
  "language_info": {
   "codemirror_mode": {
    "name": "ipython",
    "version": 3
   },
   "file_extension": ".py",
   "mimetype": "text/x-python",
   "name": "python",
   "nbconvert_exporter": "python",
   "pygments_lexer": "ipython3",
   "version": "3.6.3"
  }
 },
 "nbformat": 4,
 "nbformat_minor": 2
}
