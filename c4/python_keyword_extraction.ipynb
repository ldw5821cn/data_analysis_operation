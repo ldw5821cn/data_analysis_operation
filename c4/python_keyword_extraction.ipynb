{
 "cells": [
  {
   "cell_type": "code",
   "execution_count": 1,
   "metadata": {},
   "outputs": [],
   "source": [
    "#关键字提取"
   ]
  },
  {
   "cell_type": "code",
   "execution_count": 10,
   "metadata": {},
   "outputs": [],
   "source": [
    "import jieba.analyse\n",
    "import pandas as pd"
   ]
  },
  {
   "cell_type": "code",
   "execution_count": 3,
   "metadata": {},
   "outputs": [],
   "source": [
    "#读取文本\n",
    "fn = open('article1.txt',encoding='gbk')\n",
    "string_data = fn.read()\n",
    "fn.close()"
   ]
  },
  {
   "cell_type": "code",
   "execution_count": 12,
   "metadata": {},
   "outputs": [],
   "source": [
    "#关键字提取\n",
    "tags_pairs = jieba.analyse.extract_tags(string_data, topK=5, withWeight=True, allowPOS=['ns','n','vn','v','nv'],withFlag=True)"
   ]
  },
  {
   "cell_type": "code",
   "execution_count": 13,
   "metadata": {},
   "outputs": [
    {
     "name": "stdout",
     "output_type": "stream",
     "text": [
      "  word flag    weight\n",
      "0   数据    n  0.315040\n",
      "1   报表    n  0.164225\n",
      "2   功能    n  0.151051\n",
      "3   分析   vn  0.135564\n",
      "4   用户    n  0.127297\n"
     ]
    }
   ],
   "source": [
    "#提取关键字标签\n",
    "tags_list = []\n",
    "for i in tags_pairs:\n",
    "    tags_list.append((i[0].word,i[0].flag,i[1]))\n",
    "tags_pd = pd.DataFrame(tags_list, columns=['word','flag', 'weight'])\n",
    "print(tags_pd)"
   ]
  }
 ],
 "metadata": {
  "kernelspec": {
   "display_name": "Python 3",
   "language": "python",
   "name": "python3"
  },
  "language_info": {
   "codemirror_mode": {
    "name": "ipython",
    "version": 3
   },
   "file_extension": ".py",
   "mimetype": "text/x-python",
   "name": "python",
   "nbconvert_exporter": "python",
   "pygments_lexer": "ipython3",
   "version": "3.6.3"
  }
 },
 "nbformat": 4,
 "nbformat_minor": 2
}
