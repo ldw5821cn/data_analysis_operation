{
 "cells": [
  {
   "cell_type": "code",
   "execution_count": 1,
   "metadata": {
    "scrolled": true
   },
   "outputs": [
    {
     "name": "stderr",
     "output_type": "stream",
     "text": [
      "/Users/liudawei/anaconda3/lib/python3.6/importlib/_bootstrap.py:219: RuntimeWarning: numpy.dtype size changed, may indicate binary incompatibility. Expected 96, got 88\n",
      "  return f(*args, **kwds)\n",
      "/Users/liudawei/anaconda3/lib/python3.6/importlib/_bootstrap.py:219: RuntimeWarning: numpy.dtype size changed, may indicate binary incompatibility. Expected 96, got 88\n",
      "  return f(*args, **kwds)\n",
      "/Users/liudawei/anaconda3/lib/python3.6/importlib/_bootstrap.py:219: RuntimeWarning: numpy.dtype size changed, may indicate binary incompatibility. Expected 96, got 88\n",
      "  return f(*args, **kwds)\n"
     ]
    }
   ],
   "source": [
    "#关联分析\n",
    "import sys\n",
    "import pandas as pd\n",
    "from graphviz import Digraph\n",
    "import apriori\n",
    "import re\n",
    "from numpy import *"
   ]
  },
  {
   "cell_type": "code",
   "execution_count": 2,
   "metadata": {},
   "outputs": [],
   "source": [
    "#定义数据文件\n",
    "fileName = 'association.txt'\n",
    "#通过调用自定义的apriori做关联分析\n",
    "minS = 0.1 #定义最小支持度阈值\n",
    "minC = 0.38 #定义最小置信阈值\n",
    "dataSet = apriori.createData(fileName)\n",
    "L, suppData = apriori.apriori(dataSet, minSupport=minS)\n",
    "rules = apriori.generateRules(fileName, L, suppData, minConf=minC)"
   ]
  },
  {
   "cell_type": "code",
   "execution_count": 3,
   "metadata": {},
   "outputs": [
    {
     "name": "stdout",
     "output_type": "stream",
     "text": [
      "data record: 100 \n",
      "association rules count:13\n"
     ]
    }
   ],
   "source": [
    "#关联结果报表评估\n",
    "model_summary = 'data record: {1} \\nassociation rules count:{0}'\n",
    "print(model_summary.format(len(rules),len(dataSet)))"
   ]
  },
  {
   "cell_type": "code",
   "execution_count": 4,
   "metadata": {},
   "outputs": [
    {
     "name": "stdout",
     "output_type": "stream",
     "text": [
      "            item1          item2  instance  support  confidence    lift\n",
      "2   (17092020299)  (38657641492)        14     0.14      0.3889  1.1438\n",
      "3   (38657641492)  (17092020299)        14     0.14      0.4118  1.1438\n",
      "5   (38728350298)  (38660935334)        14     0.14      0.5000  1.3158\n",
      "6   (13943415375)  (38660935334)        14     0.14      0.4516  1.1885\n",
      "7   (17288980167)  (17092020299)        14     0.14      0.4828  1.3410\n",
      "8   (17092020299)  (17288980167)        14     0.14      0.3889  1.3410\n",
      "9   (38722052311)  (38660935334)        14     0.14      0.3889  1.0234\n",
      "0   (38657641492)  (38722052311)        13     0.13      0.3824  1.0621\n",
      "1   (38657641492)  (38660935334)        13     0.13      0.3824  1.0062\n",
      "4   (13943415375)  (17092020299)        13     0.13      0.4194  1.1649\n",
      "10  (36989298167)  (38660935334)        13     0.13      0.4483  1.1797\n",
      "11      (4002591)  (38728350298)        11     0.11      0.4231  1.5110\n",
      "12  (38728350298)      (4002591)        11     0.11      0.3929  1.5110\n"
     ]
    }
   ],
   "source": [
    "df = pd.DataFrame(rules, columns=['item1','item2','instance','support','confidence','lift'])\n",
    "df_lift = df[df['lift'] > 1.0] # 只选则提升度>1的规则\n",
    "print(df_lift.sort_values('instance',ascending=False))"
   ]
  },
  {
   "cell_type": "code",
   "execution_count": 5,
   "metadata": {},
   "outputs": [],
   "source": [
    "#关联结果图形展示\n",
    "# dot = Digraph() #创建有向图\n",
    "# graph_data = df_lift[['item1','item2','instance']]\n",
    "# for each_data in graph_data.values:\n",
    "#     node1, node2, weight = each_data\n",
    "#     node1 = str(node1)\n",
    "#     node2 = str(node2)\n",
    "#     lable = '%s' % weight\n",
    "#     dot.node(node1, node2, shape='record')\n",
    "#     dot.edge(node1, node2, lable=lable,constraint='true')\n",
    "# dot.render('apriori',view=True)"
   ]
  },
  {
   "cell_type": "code",
   "execution_count": 7,
   "metadata": {},
   "outputs": [
    {
     "name": "stdout",
     "output_type": "stream",
     "text": [
      "type error: Command '['dot', '-Tpdf', '-O', 'apriori']' returned non-zero exit status 1.\n"
     ]
    }
   ],
   "source": [
    "# 关联结果图形展示\n",
    "dot = Digraph()  # 创建有向图\n",
    "graph_data = df_lift[['item1', 'item2', 'instance']]  # 切分画图用的前项、后项和实例数数据\n",
    "for each_data in graph_data.values:  # 循环读出每条规则\n",
    "    node1, node2, weight = each_data  # 分割每条数据画图用的前项、后项和实例数\n",
    "    node1 = str(node1)  # 转化为字符串\n",
    "    node2 = str(node2)  # 转化为字符串\n",
    "    label = '%s' % weight  # 创建一个标签用于展示实例数\n",
    "    dot.node(node1, node1, shape='record')  # 增加节点（规则中的前项）\n",
    "    dot.edge(node1, node2, label=label, constraint='true')  # 增加有向边\n",
    "try:  \n",
    "    dot.render('apriori', view=True)  # 保存规则为pdf文件\n",
    "except Exception as e:\n",
    "    print(\"type error: \" + str(e))"
   ]
  },
  {
   "cell_type": "code",
   "execution_count": null,
   "metadata": {},
   "outputs": [],
   "source": []
  }
 ],
 "metadata": {
  "kernelspec": {
   "display_name": "Python 3",
   "language": "python",
   "name": "python3"
  },
  "language_info": {
   "codemirror_mode": {
    "name": "ipython",
    "version": 3
   },
   "file_extension": ".py",
   "mimetype": "text/x-python",
   "name": "python",
   "nbconvert_exporter": "python",
   "pygments_lexer": "ipython3",
   "version": "3.6.3"
  }
 },
 "nbformat": 4,
 "nbformat_minor": 2
}
