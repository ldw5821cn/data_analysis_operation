{
 "cells": [
  {
   "cell_type": "code",
   "execution_count": 14,
   "metadata": {},
   "outputs": [],
   "source": [
    "#文本聚类\n",
    "import numpy as np\n",
    "import pandas as pd\n",
    "from sklearn.feature_extraction.text import TfidfVectorizer\n",
    "from sklearn.cluster import KMeans\n",
    "import jieba.posseg as pseg"
   ]
  },
  {
   "cell_type": "code",
   "execution_count": 5,
   "metadata": {},
   "outputs": [],
   "source": [
    "#中文分词\n",
    "def jieba_cut(comment):\n",
    "    word_list = []\n",
    "    seg_list = pseg.cut(comment)\n",
    "    for word in seg_list:\n",
    "        if word.flag in ['a','ag','an']:\n",
    "            word_list.append(word.word)\n",
    "    return word_list"
   ]
  },
  {
   "cell_type": "code",
   "execution_count": 7,
   "metadata": {},
   "outputs": [],
   "source": [
    "#读取数据文件\n",
    "fn = open('comment.txt')\n",
    "comment_list = fn.readlines()\n",
    "fn.close()"
   ]
  },
  {
   "cell_type": "code",
   "execution_count": 12,
   "metadata": {},
   "outputs": [],
   "source": [
    "# word to vector\n",
    "stop_words = ['...','。','，','？','！','+',' ','、','：','；','（','）','.','-']\n",
    "vectorizer = TfidfVectorizer(stop_words=stop_words, tokenizer=jieba_cut, use_idf=True)\n",
    "#创建词向量模型\n",
    "X = vectorizer.fit_transform(comment_list)\n",
    "#将评论关键字列表转换为词向量空间模型"
   ]
  },
  {
   "cell_type": "code",
   "execution_count": 13,
   "metadata": {},
   "outputs": [
    {
     "data": {
      "text/plain": [
       "KMeans(algorithm='auto', copy_x=True, init='k-means++', max_iter=300,\n",
       "    n_clusters=3, n_init=10, n_jobs=1, precompute_distances='auto',\n",
       "    random_state=None, tol=0.0001, verbose=0)"
      ]
     },
     "execution_count": 13,
     "metadata": {},
     "output_type": "execute_result"
    }
   ],
   "source": [
    "#K 均值聚类\n",
    "model_kmeans = KMeans(n_clusters=3)\n",
    "model_kmeans.fit(X)"
   ]
  },
  {
   "cell_type": "code",
   "execution_count": 18,
   "metadata": {},
   "outputs": [
    {
     "name": "stdout",
     "output_type": "stream",
     "text": [
      "    一般   不厚   不爽   不贵   不错   不高   便宜   具体   准确    凹       ...          蓝   诚意  \\\n",
      "0  0.0  0.0  0.0  0.0  0.0  0.0  0.0  0.0  0.0  0.0       ...        0.0  0.0   \n",
      "\n",
      "     贵    足   透亮   重要    难         高   麻烦  cluster_labels  \n",
      "0  0.0  0.0  0.0  0.0  0.0  0.392535  0.0             0.0  \n",
      "\n",
      "[1 rows x 64 columns]\n"
     ]
    }
   ],
   "source": [
    "#聚类结果汇总\n",
    "cluster_labels = model_kmeans.labels_\n",
    "word_vectors = vectorizer.get_feature_names()\n",
    "word_values = X.toarray()\n",
    "comment_matrix = np.hstack((word_values, cluster_labels.reshape(word_values.shape[0],1)))\n",
    "word_vectors.append('cluster_labels')\n",
    "comment_pd = pd.DataFrame(comment_matrix, columns=word_vectors)\n",
    "print(comment_pd.head(1))"
   ]
  },
  {
   "cell_type": "code",
   "execution_count": 19,
   "metadata": {},
   "outputs": [
    {
     "name": "stdout",
     "output_type": "stream",
     "text": [
      "好     4.890181\n",
      "流畅    0.808409\n",
      "清晰    0.685972\n",
      "着急    0.641769\n",
      "慢     0.508659\n",
      "dtype: float64\n"
     ]
    }
   ],
   "source": [
    "#聚类结果分析\n",
    "comment_cluster1 = comment_pd[comment_pd['cluster_labels']==2].drop('cluster_labels',axis=1)\n",
    "word_importance = np.sum(comment_cluster1,axis=0)\n",
    "print(word_importance.sort_values(ascending=False)[:5])"
   ]
  },
  {
   "cell_type": "code",
   "execution_count": null,
   "metadata": {},
   "outputs": [],
   "source": []
  }
 ],
 "metadata": {
  "kernelspec": {
   "display_name": "Python 3",
   "language": "python",
   "name": "python3"
  },
  "language_info": {
   "codemirror_mode": {
    "name": "ipython",
    "version": 3
   },
   "file_extension": ".py",
   "mimetype": "text/x-python",
   "name": "python",
   "nbconvert_exporter": "python",
   "pygments_lexer": "ipython3",
   "version": "3.6.3"
  }
 },
 "nbformat": 4,
 "nbformat_minor": 2
}
