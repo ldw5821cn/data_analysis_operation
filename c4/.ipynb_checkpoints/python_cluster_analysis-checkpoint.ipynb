{
 "cells": [
  {
   "cell_type": "code",
   "execution_count": 13,
   "metadata": {},
   "outputs": [],
   "source": [
    "import numpy as np\n",
    "import matplotlib.pyplot as plt\n",
    "from sklearn.cluster import KMeans\n",
    "from sklearn import metrics\n",
    "import pickle as pk"
   ]
  },
  {
   "cell_type": "code",
   "execution_count": 8,
   "metadata": {},
   "outputs": [
    {
     "name": "stdout",
     "output_type": "stream",
     "text": [
      "[[0.58057881 0.43199283]\n",
      " [1.70562094 1.16006288]]\n",
      "[0. 0.]\n"
     ]
    }
   ],
   "source": [
    "#数据准备\n",
    "raw_data = np.loadtxt('cluster.txt')\n",
    "X = raw_data[:,:-1]\n",
    "y_true = raw_data[:,-1]\n",
    "print(X[:2])\n",
    "print(y_true[:2])\n",
    "#训练聚类模型\n",
    "n_clusters = 3 #聚类数量\n",
    "model_kmeans = KMeans(n_clusters=n_clusters,random_state=0)\n",
    "model_kmeans.fit(X)\n",
    "y_pre = model_kmeans.predict(X) #预测聚类模型"
   ]
  },
  {
   "cell_type": "code",
   "execution_count": 3,
   "metadata": {},
   "outputs": [
    {
     "name": "stdout",
     "output_type": "stream",
     "text": [
      "samples: 1000 \t features: 2\n",
      "----------------------------------------------------------------------\n",
      "ine\tARI\tMI\tAMI\thome\tcomp\tv_m\tsilh\tc&h\n",
      "300 0.96\t1.03\t0.94\t0.94\t0.94\t0.94\t0.63\t2860\n",
      "----------------------------------------------------------------------\n",
      "ine \t inertias\n",
      "ARI \t adjusted_rand_s\n",
      "MI \t mutual_info_s\n",
      "AMI \t adjusted_mutual_info_s\n",
      "homo \t homegeneity_s\n",
      "comp \t completeness_s\n",
      "v_m \t v_measure_s\n",
      "silh \t silhouette_s\n",
      "c&h \t calinski_harabaz_s\n"
     ]
    }
   ],
   "source": [
    "#模型效果评估\n",
    "n_samples, n_features = X.shape\n",
    "inertias = model_kmeans.inertia_\n",
    "adjusted_rand_s = metrics.adjusted_rand_score(y_true, y_pre)\n",
    "mutual_info_s = metrics.mutual_info_score(y_true, y_pre)\n",
    "adjusted_mutual_info_s = metrics.adjusted_mutual_info_score(y_true, y_pre)\n",
    "homegeneity_s = metrics.homogeneity_score(y_true, y_pre)\n",
    "completeness_s = metrics.completeness_score(y_true, y_pre)\n",
    "v_measure_s = metrics.v_measure_score(y_true, y_pre)\n",
    "silhouette_s = metrics.silhouette_score(X, y_pre, metric='euclidean')\n",
    "calinski_harabaz_s = metrics.calinski_harabaz_score(X,y_pre)\n",
    "print('samples: %d \\t features: %d' % (n_samples, n_features))\n",
    "print(70 * '-')\n",
    "print('ine\\tARI\\tMI\\tAMI\\thome\\tcomp\\tv_m\\tsilh\\tc&h')\n",
    "print('%d %.2f\\t%.2f\\t%.2f\\t%.2f\\t%.2f\\t%.2f\\t%.2f\\t%d'%(inertias,adjusted_rand_s,mutual_info_s,adjusted_mutual_info_s,homegeneity_s,completeness_s,v_measure_s,silhouette_s,calinski_harabaz_s))\n",
    "print(70*'-')\n",
    "print('ine \\t inertias')\n",
    "print('ARI \\t adjusted_rand_s')\n",
    "print('MI \\t mutual_info_s')\n",
    "print('AMI \\t adjusted_mutual_info_s')\n",
    "print('homo \\t homegeneity_s')\n",
    "print('comp \\t completeness_s')\n",
    "print('v_m \\t v_measure_s')\n",
    "print('silh \\t silhouette_s')\n",
    "print('c&h \\t calinski_harabaz_s')"
   ]
  },
  {
   "cell_type": "code",
   "execution_count": 9,
   "metadata": {},
   "outputs": [
    {
     "data": {
      "image/png": "[encoded data removed]",
      "text/plain": [
       "<Figure size 432x288 with 1 Axes>"
      ]
     },
     "metadata": {},
     "output_type": "display_data"
    }
   ],
   "source": [
    "#模型可视化\n",
    "centers = model_kmeans.cluster_centers_\n",
    "colors = ['#4EACC5','#FF9C34','#4E9A06']\n",
    "# 设置不同类别的颜色\n",
    "plt.figure()\n",
    "for i in range(n_clusters):\n",
    "    index_sets = np.where(y_pre == i)\n",
    "    cluster = X[index_sets]\n",
    "    plt.scatter(cluster[:,0], cluster[:,1],c=colors[i],marker='.')\n",
    "    plt.plot(centers[i][0], centers[i][1],'o',markerfacecolor=colors[i], markeredgecolor='k',markersize=6)\n",
    "plt.show()"
   ]
  },
  {
   "cell_type": "code",
   "execution_count": 16,
   "metadata": {},
   "outputs": [
    {
     "name": "stdout",
     "output_type": "stream",
     "text": [
      "cluster of new data point is: 1\n"
     ]
    }
   ],
   "source": [
    "#模型应用\n",
    "new_X = [[1, 3.6]]\n",
    "cluster_label = model_kmeans.predict(new_X)\n",
    "print('cluster of new data point is: %d' % cluster_label)"
   ]
  },
  {
   "cell_type": "code",
   "execution_count": 17,
   "metadata": {},
   "outputs": [],
   "source": [
    "#模型保存\n",
    "pk.dump(model_kmeans,open('model_means_obj.pkl','wb'))"
   ]
  },
  {
   "cell_type": "code",
   "execution_count": 34,
   "metadata": {},
   "outputs": [
    {
     "name": "stdout",
     "output_type": "stream",
     "text": [
      "cluster of new data point is: 0\n"
     ]
    }
   ],
   "source": [
    "#加载模型\n",
    "new_X = [[0.867640995444959540e-01, -1.341664504325741802e+00]]\n",
    "model_cluster_obj = pk.load(open('model_means_obj.pkl','rb'))\n",
    "cluster_label_obj = model_cluster_obj.predict(new_X)\n",
    "print('cluster of new data point is: %d' % cluster_label_obj)"
   ]
  }
 ],
 "metadata": {
  "kernelspec": {
   "display_name": "Python 3",
   "language": "python",
   "name": "python3"
  },
  "language_info": {
   "codemirror_mode": {
    "name": "ipython",
    "version": 3
   },
   "file_extension": ".py",
   "mimetype": "text/x-python",
   "name": "python",
   "nbconvert_exporter": "python",
   "pygments_lexer": "ipython3",
   "version": "3.6.3"
  }
 },
 "nbformat": 4,
 "nbformat_minor": 2
}
