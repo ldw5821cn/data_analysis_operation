{
 "cells": [
  {
   "cell_type": "code",
   "execution_count": 1,
   "metadata": {},
   "outputs": [],
   "source": [
    "#词性标注"
   ]
  },
  {
   "cell_type": "code",
   "execution_count": 13,
   "metadata": {},
   "outputs": [],
   "source": [
    "import jieba.posseg as pseg\n",
    "import pandas as pd"
   ]
  },
  {
   "cell_type": "code",
   "execution_count": 7,
   "metadata": {},
   "outputs": [],
   "source": [
    "#读取文本文件\n",
    "fn = open('article1.txt',encoding='gbk')\n",
    "string_data = fn.read()\n",
    "fn.close()"
   ]
  },
  {
   "cell_type": "code",
   "execution_count": 24,
   "metadata": {},
   "outputs": [
    {
     "name": "stdout",
     "output_type": "stream",
     "text": [
      "        word type\n",
      "0      Adobe  eng\n",
      "1               x\n",
      "2  Analytics  eng\n",
      "3          和    c\n"
     ]
    }
   ],
   "source": [
    "#分词+词性标注\n",
    "words = pseg.cut(string_data)\n",
    "words_list = []\n",
    "for word in words:\n",
    "    words_list.append((word.word, word.flag))\n",
    "words_pd = pd.DataFrame(words_list, columns=['word','type'])\n",
    "print(words_pd.head(4))"
   ]
  },
  {
   "cell_type": "code",
   "execution_count": 28,
   "metadata": {},
   "outputs": [
    {
     "name": "stdout",
     "output_type": "stream",
     "text": [
      "type  word\n",
      "a     不同      14\n",
      "      不足       2\n",
      "      不通       1\n",
      "      严谨       2\n",
      "Name: word, dtype: int64\n"
     ]
    }
   ],
   "source": [
    "# 词性分类汇总-两列分类\n",
    "words_gb = words_pd.groupby(['type', 'word'])['word'].count()\n",
    "print (words_gb.head(4))"
   ]
  },
  {
   "cell_type": "code",
   "execution_count": 17,
   "metadata": {},
   "outputs": [
    {
     "name": "stdout",
     "output_type": "stream",
     "text": [
      "      word\n",
      "type      \n",
      "x      994\n",
      "n      981\n",
      "v      834\n",
      "eng    295\n"
     ]
    }
   ],
   "source": [
    "#词性分类汇总-单列分类\n",
    "words_gb2 = words_pd.groupby('type').count()\n",
    "words_gb2 = words_gb2.sort_values(by='word',ascending=False)\n",
    "print(words_gb2.head(4))"
   ]
  },
  {
   "cell_type": "code",
   "execution_count": 18,
   "metadata": {},
   "outputs": [
    {
     "name": "stdout",
     "output_type": "stream",
     "text": [
      "        word type\n",
      "0      Adobe  eng\n",
      "2  Analytics  eng\n",
      "4   Webtrekk  eng\n",
      "9         领域    n\n"
     ]
    }
   ],
   "source": [
    "#选择特定类型词语做展示\n",
    "words_pd_index = words_pd['type'].isin(['n','eng'])\n",
    "words_pd_select = words_pd[words_pd_index]\n",
    "print(words_pd_select.head(4))"
   ]
  },
  {
   "cell_type": "code",
   "execution_count": null,
   "metadata": {},
   "outputs": [],
   "source": []
  }
 ],
 "metadata": {
  "kernelspec": {
   "display_name": "Python 3",
   "language": "python",
   "name": "python3"
  },
  "language_info": {
   "codemirror_mode": {
    "name": "ipython",
    "version": 3
   },
   "file_extension": ".py",
   "mimetype": "text/x-python",
   "name": "python",
   "nbconvert_exporter": "python",
   "pygments_lexer": "ipython3",
   "version": "3.6.3"
  }
 },
 "nbformat": 4,
 "nbformat_minor": 2
}
